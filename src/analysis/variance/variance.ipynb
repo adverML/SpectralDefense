{
 "cells": [
  {
   "cell_type": "code",
   "execution_count": 9,
   "id": "bedb075e-1150-430d-884d-903caef942ac",
   "metadata": {},
   "outputs": [],
   "source": [
    "import os\n",
    "import numpy as np\n",
    "import csv\n",
    "import pandas as pd"
   ]
  },
  {
   "cell_type": "code",
   "execution_count": 10,
   "id": "d16c6b71-f1f4-46cf-abfc-08f62fec5ee7",
   "metadata": {},
   "outputs": [
    {
     "name": "stdout",
     "output_type": "stream",
     "text": [
      "$\\pm$\n"
     ]
    }
   ],
   "source": [
    "pm = r\"$\\pm$\"\n",
    "print(pm)"
   ]
  },
  {
   "cell_type": "code",
   "execution_count": 11,
   "id": "c4ea5049-200b-4424-a162-9adc6e104556",
   "metadata": {},
   "outputs": [],
   "source": [
    "np.set_printoptions(formatter = {\n",
    "    'float': lambda x: \"{0:0.1f}\".format(x)\n",
    " })"
   ]
  },
  {
   "cell_type": "code",
   "execution_count": 13,
   "id": "d068ddd9-40c6-4f51-bd93-e17927e4d79c",
   "metadata": {},
   "outputs": [
    {
     "name": "stdout",
     "output_type": "stream",
     "text": [
      "len(d_frame) 3\n",
      "same shape True\n",
      "[[0.8 1.1 3.5 0.1 0.9 0.1 0.0 0.1]\n",
      " [0.4 1.1 3.0 3.3 1.0 3.3 0.1 1.5]\n",
      " [0.8 0.6 0.6 0.5 0.6 0.5 0.0 0.3]\n",
      " [0.4 1.9 1.1 3.4 2.1 3.4 0.0 1.9]\n",
      " [0.3 2.1 5.4 0.2 1.4 0.2 0.0 0.0]\n",
      " [1.0 0.7 0.9 4.2 1.8 4.2 0.0 4.2]\n",
      " [0.6 0.5 1.0 2.1 0.2 2.1 0.0 2.1]\n",
      " [0.1 1.3 4.1 0.1 1.0 0.1 0.0 0.1]\n",
      " [0.1 1.2 2.8 0.0 0.9 0.0 0.1 0.0]\n",
      " [0.5 3.2 6.9 0.0 2.2 0.0 0.0 0.0]\n",
      " [0.6 3.0 6.5 0.0 2.3 0.0 0.0 0.0]\n",
      " [0.0 0.2 0.5 0.1 0.2 0.1 0.0 0.0]\n",
      " [0.8 1.3 4.6 9.0 2.5 9.0 0.0 9.0]\n",
      " [0.1 0.1 0.0 3.1 0.8 3.1 0.0 3.1]\n",
      " [2.5 2.7 4.5 1.6 2.4 1.6 0.0 1.6]\n",
      " [0.5 0.4 2.5 14.7 1.5 14.7 0.1 6.8]\n",
      " [0.4 0.6 1.3 0.5 0.1 0.5 0.0 0.3]\n",
      " [0.9 1.4 2.2 0.3 0.8 0.3 0.0 0.1]\n",
      " [0.0 3.0 3.5 4.3 3.7 4.3 0.0 0.3]\n",
      " [0.2 0.4 0.2 5.7 1.1 5.7 0.0 5.7]\n",
      " [0.3 0.5 0.4 3.1 0.8 3.1 0.0 3.1]\n",
      " [9.7 15.6 21.1 8.0 13.8 8.0 0.0 8.0]\n",
      " [0.2 1.1 0.8 12.0 4.0 12.0 0.1 5.8]\n",
      " [0.0 0.1 0.1 0.5 0.1 0.5 0.0 0.4]\n",
      " [0.3 0.0 0.2 6.7 1.2 6.7 0.0 3.8]\n",
      " [6.0 4.1 4.6 6.4 4.7 6.4 0.0 0.5]\n",
      " [0.1 0.0 0.2 4.3 0.2 4.3 0.0 4.3]\n",
      " [0.6 0.7 0.4 2.4 0.6 2.4 0.0 2.4]]\n"
     ]
    }
   ],
   "source": [
    "pm = r\"$\\pm$\"\n",
    "main_path = \".\"\n",
    "FILE_ENDING = \".csv\"\n",
    "# FILE_ENDING = \".txt\"\n",
    "# datasets=['cif10vgg', 'cif100vgg']\n",
    "# datasets=['cif10', 'cif100']\n",
    "# datasets=['imagenet32', 'imagenet64','imagenet128']\n",
    "# datasets=['imagenet128']\n",
    "\n",
    "# datasets=['celebaHQ32', 'celebaHQ64','celebaHQ128']\n",
    "# datasets=['celebaHQ32']\n",
    "# datasets=['cif10rn34']\n",
    "# datasets=['cif100rn34']\n",
    "# datasets=['imagenet']\n",
    "datasets=['cif10_rb']\n",
    "\n",
    "columns = ['auc', 'acc', 'pre', 'tpr', 'f1', 'fnr', 'asr', 'asrd']\n",
    "\n",
    "runs = 3\n",
    "\n",
    "for dataset in datasets:\n",
    "    d_frame = []\n",
    "    np_arr = []\n",
    "\n",
    "    for idx_run in range(1, runs+1):\n",
    "        d_frame.append( pd.read_csv(os.path.join(main_path, \"run_\" + str(idx_run), dataset + FILE_ENDING)) )\n",
    "        arr1 = d_frame[idx_run - 1].to_numpy()\n",
    "        np_arr.append(np.delete(arr1, [0], 1).astype('float32'))\n",
    "\n",
    "    print(\"len(d_frame)\", len(d_frame))\n",
    "    print(\"same shape\", np_arr[0].shape == np_arr[1].shape == np_arr[2].shape)\n",
    "\n",
    "    i, j = np_arr[0].shape\n",
    "    result = np.zeros_like(np_arr[0])\n",
    "\n",
    "    for row in range(i):\n",
    "        for col in range(j):\n",
    "            variance = np.var( np.array([np_arr[0][row, col], np_arr[1][row, col], np_arr[2][row, col] ]))\n",
    "                                \n",
    "            if variance > 500:\n",
    "                print(np_arr[0][row, col], np_arr[1][row, col], np_arr[2][row, col])\n",
    "                print(\"varrrrrrrrrrrrrr\", variance)\n",
    "            result[row, col] = variance\n",
    "    print(np.around(result,1))\n",
    "    \n",
    "    str_var = np.around(result,1).astype(str)\n",
    "    base = np_arr[0].astype(str)\n",
    "    \n",
    "    for row in range(i):\n",
    "        for col in range(j):\n",
    "            base[row,col] = base[row,col] + pm + str_var[row,col]\n",
    "    \n",
    "    df = pd.DataFrame(base, columns=columns)\n",
    "    df.insert(0, \"0\", d_frame[0].iloc[:,0], True)\n",
    "    \n",
    "    df.to_csv( \"var_all/\" + dataset + \"_var.csv\", index=True)\n",
    "    df.to_csv( dataset + \"_var.csv\", index=True)"
   ]
  },
  {
   "cell_type": "code",
   "execution_count": null,
   "id": "6ff22eec-8bdd-4b33-8a11-4d16c35aced2",
   "metadata": {},
   "outputs": [],
   "source": []
  }
 ],
 "metadata": {
  "kernelspec": {
   "display_name": "Python [conda env:.conda-cuda--11-1-1--pytorch--1-9-0]",
   "language": "python",
   "name": "conda-env-.conda-cuda--11-1-1--pytorch--1-9-0-py"
  },
  "language_info": {
   "codemirror_mode": {
    "name": "ipython",
    "version": 3
   },
   "file_extension": ".py",
   "mimetype": "text/x-python",
   "name": "python",
   "nbconvert_exporter": "python",
   "pygments_lexer": "ipython3",
   "version": "3.9.5"
  }
 },
 "nbformat": 4,
 "nbformat_minor": 5
}
