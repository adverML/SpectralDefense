{
 "cells": [
  {
   "cell_type": "code",
   "execution_count": 1,
   "id": "bedb075e-1150-430d-884d-903caef942ac",
   "metadata": {},
   "outputs": [],
   "source": [
    "import os\n",
    "import numpy as np\n",
    "import csv\n",
    "import pandas as pd"
   ]
  },
  {
   "cell_type": "code",
   "execution_count": 2,
   "id": "d16c6b71-f1f4-46cf-abfc-08f62fec5ee7",
   "metadata": {},
   "outputs": [
    {
     "name": "stdout",
     "output_type": "stream",
     "text": [
      "$\\pm$\n"
     ]
    }
   ],
   "source": [
    "pm = r\"$\\pm$\"\n",
    "print(pm)"
   ]
  },
  {
   "cell_type": "code",
   "execution_count": 3,
   "id": "c4ea5049-200b-4424-a162-9adc6e104556",
   "metadata": {},
   "outputs": [],
   "source": [
    "np.set_printoptions(formatter = {\n",
    "    'float': lambda x: \"{0:0.1f}\".format(x)\n",
    " }\n",
    ")"
   ]
  },
  {
   "cell_type": "code",
   "execution_count": 4,
   "id": "905c545d-3f79-49c8-8aae-34cb97fd71cf",
   "metadata": {},
   "outputs": [],
   "source": [
    "pm = r\"$\\pm$\"\n",
    "main_path = \".\"\n",
    "FILE_ENDING = \".csv\"\n",
    "APP = \"_LID\"\n",
    "# APP = \"\"\n",
    "# FILE_ENDING = \".txt\"\n",
    "# datasets=['cif10vgg', 'cif100vgg']\n",
    "# datasets=['cif10', 'cif100']\n",
    "# datasets=['imagenet32', 'imagenet64','imagenet128']\n",
    "# datasets=['imagenet128']\n",
    "\n",
    "# datasets=['celebaHQ32', 'celebaHQ64','celebaHQ128']\n",
    "# datasets=['celebaHQ32']\n",
    "# datasets=['cif10rn34']\n",
    "# datasets=['cif100rn34']\n",
    "# datasets=['imagenet']\n",
    "# datasets=['cif10_rb']\n",
    "\n",
    "# datasets=['cif10', 'cif100', 'cif10vgg', 'cif10rn34', 'cif100rn34', 'cif10_rb' , 'cif100vgg', 'celebaHQ32', 'celebaHQ64','celebaHQ128', 'imagenet32', 'imagenet64','imagenet128', 'imagenet']\n",
    "# datasets=['cif10', 'cif100', 'cif10vgg', 'cif10rn34', 'cif100rn34', 'cif10_rb' , 'cif100vgg', 'imagenet']\n",
    "datasets=['cif10', 'cif100', 'cif10vgg', 'cif100vgg', 'imagenet' ]\n",
    "datasets=['imagenet' ]"
   ]
  },
  {
   "cell_type": "code",
   "execution_count": 5,
   "id": "eeab13ec-5039-4668-afe9-9445e7533248",
   "metadata": {},
   "outputs": [
    {
     "name": "stdout",
     "output_type": "stream",
     "text": [
      "len(d_frame) 3\n",
      "same shape True\n",
      "[[9.1 7.7 7.7 28.8 16.8 28.8 0.0 28.8]\n",
      " [0.9 1.4 1.3 26.6 4.4 26.6 0.3 21.5]\n",
      " [0.3 0.7 4.3 3.1 0.6 3.1 0.0 3.1]\n",
      " [0.0 0.0 3.3 5.4 0.1 5.4 0.0 5.4]\n",
      " [0.0 0.0 0.0 0.0 0.0 0.0 0.0 0.0]\n",
      " [3.0 10.0 7.6 3.8 5.9 3.8 0.0 3.8]\n",
      " [7.4 4.0 3.6 0.2 0.9 0.2 0.0 0.2]\n",
      " [0.0 0.0 0.0 0.0 0.0 0.0 0.0 0.0]\n",
      " [0.0 0.0 0.0 0.0 0.0 0.0 0.3 0.0]\n",
      " [0.0 0.0 0.0 0.0 0.0 0.0 0.0 0.0]\n",
      " [0.0 0.0 0.0 0.0 0.0 0.0 0.0 0.0]\n",
      " [0.0 0.0 0.0 0.0 0.0 0.0 0.0 0.0]\n",
      " [0.0 0.0 0.0 0.0 0.0 0.0 0.0 0.0]\n",
      " [0.0 0.0 0.0 0.0 0.0 0.0 0.0 0.0]]\n"
     ]
    }
   ],
   "source": [
    "columns = ['auc', 'acc', 'pre', 'tpr', 'f1', 'fnr', 'asr', 'asrd']\n",
    "\n",
    "runs = 3\n",
    "\n",
    "for dataset in datasets:\n",
    "    d_frame = []\n",
    "    np_arr  = []\n",
    "    \n",
    "    dataset_name = dataset + APP\n",
    "    \n",
    "    for idx_run in range(1, runs+1):\n",
    "        d_frame.append( pd.read_csv(os.path.join(main_path, \"run_\" + str(idx_run), dataset_name + FILE_ENDING)) )\n",
    "        arr1 = d_frame[idx_run - 1].to_numpy()\n",
    "        np_arr.append(np.delete(arr1, [0], 1).astype('float32'))\n",
    "\n",
    "    print(\"len(d_frame)\", len(d_frame))\n",
    "    print(\"same shape\", np_arr[0].shape == np_arr[1].shape == np_arr[2].shape)\n",
    "\n",
    "    i, j = np_arr[0].shape\n",
    "    result = np.zeros_like(np_arr[0])\n",
    "\n",
    "    for row in range(i):\n",
    "        for col in range(j):\n",
    "            variance = np.var( np.array([ np_arr[0][row, col], np_arr[1][row, col], np_arr[2][row, col] ]))\n",
    "                                \n",
    "            if variance > 500:\n",
    "                print(np_arr[0][row, col], np_arr[1][row, col], np_arr[2][row, col])\n",
    "                print(\"varrrrrrrrrrrrrr\", variance)\n",
    "            result[row, col] = variance\n",
    "    print(np.around(result, 1))\n",
    "    \n",
    "    str_var = np.around(result, 1).astype(str)\n",
    "    base = np_arr[0].astype(str)\n",
    "    \n",
    "    for row in range(i):\n",
    "        for col in range(j):\n",
    "            base[row,col] = base[row,col] + pm + str_var[row,col]\n",
    "    \n",
    "    df = pd.DataFrame(base, columns=columns)\n",
    "    df.insert(0, \"0\", d_frame[0].iloc[:,0], True)\n",
    "    \n",
    "    df.to_csv( \"var_all/\" + dataset_name + \"_var.csv\", index=True)\n",
    "    df.to_csv( dataset_name + \"_var.csv\", index=True)"
   ]
  },
  {
   "cell_type": "code",
   "execution_count": null,
   "id": "6ff22eec-8bdd-4b33-8a11-4d16c35aced2",
   "metadata": {},
   "outputs": [],
   "source": []
  },
  {
   "cell_type": "code",
   "execution_count": null,
   "id": "be3d0d34-25e5-4135-86a2-36dab6f9a8cb",
   "metadata": {},
   "outputs": [],
   "source": []
  }
 ],
 "metadata": {
  "kernelspec": {
   "display_name": "Python [conda env:.conda-cuda--11-1-1--pytorch--1-9-0]",
   "language": "python",
   "name": "conda-env-.conda-cuda--11-1-1--pytorch--1-9-0-py"
  },
  "language_info": {
   "codemirror_mode": {
    "name": "ipython",
    "version": 3
   },
   "file_extension": ".py",
   "mimetype": "text/x-python",
   "name": "python",
   "nbconvert_exporter": "python",
   "pygments_lexer": "ipython3",
   "version": "3.9.12"
  }
 },
 "nbformat": 4,
 "nbformat_minor": 5
}
