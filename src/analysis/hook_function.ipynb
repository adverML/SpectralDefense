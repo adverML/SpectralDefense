{
 "cells": [
  {
   "cell_type": "code",
   "execution_count": 1,
   "id": "returning-cuisine",
   "metadata": {},
   "outputs": [
    {
     "name": "stdout",
     "output_type": "stream",
     "text": [
      "Load modules...\n"
     ]
    }
   ],
   "source": [
    "print('Load modules...')\n",
    "import numpy as np\n",
    "import torch\n",
    "import torchvision\n",
    "import torchvision.models as models\n",
    "import torchvision.transforms as transforms\n",
    "from torch.autograd import Variable\n",
    "from torchsummary import summary\n",
    "from scipy.spatial.distance import cdist\n",
    "from tqdm import tqdm\n",
    "from collections import OrderedDict\n",
    "# from models.vgg_cif10 import VGG\n",
    "# from models.vgg import vgg16_bn\n",
    "import argparse\n",
    "import sklearn\n",
    "import sklearn.covariance\n",
    "from utils import get_network\n",
    "\n",
    "import matplotlib.pyplot as plt\n",
    "import pdb\n",
    "\n",
    "from conf import settings\n",
    "\n",
    "DATA_SPLIT = settings.DATA_SPLIT\n",
    "IMAGE_SIZE = settings.IMAGE_SIZE\n",
    "IMG_DIR    = settings.IMG_DIR\n",
    "epsilon = settings.EPSILON"
   ]
  },
  {
   "cell_type": "code",
   "execution_count": 112,
   "id": "referenced-football",
   "metadata": {},
   "outputs": [
    {
     "data": {
      "text/plain": [
       "_StoreTrueAction(option_strings=['-parallel'], dest='parallel', nargs=0, const=True, default=False, type=None, choices=None, help='train on multiple GPUs training', metavar=None)"
      ]
     },
     "execution_count": 112,
     "metadata": {},
     "output_type": "execute_result"
    }
   ],
   "source": [
    "#processing the arguments\n",
    "parser = argparse.ArgumentParser()\n",
    "parser.add_argument(\"-attack\", default='fgsm', help=\"the attack method which created the adversarial examples you want to use. Either fgsm, bim, pgd, df or cw\")\n",
    "parser.add_argument(\"-detector\", default='InputPFS', help=\"the detector youz want to use, out of InputPFS, InputMFS, LayerMFS, LayerPFS, LID, Mahalanobis\")\n",
    "parser.add_argument(\"-net\", default='resnet50', help=\"the network used for the attack, either resnet50\")\n",
    "parser.add_argument('-b', type=int, default=128, help='batch size for dataloader')\n",
    "parser.add_argument('-gpu', action='store_true', default=True, help='use gpu or not')\n",
    "parser.add_argument('-parallel', action='store_true', default=False, help='train on multiple GPUs training')"
   ]
  },
  {
   "cell_type": "code",
   "execution_count": 113,
   "id": "tamil-south",
   "metadata": {},
   "outputs": [
    {
     "name": "stdout",
     "output_type": "stream",
     "text": [
      "Loading images and adversarial examples...\n"
     ]
    }
   ],
   "source": [
    "# args = parser.parse_args()\n",
    "\n",
    "# print(args)\n",
    "\n",
    "#choose attack\n",
    "attack_method = 'fgsm' #args.attack\n",
    "detector = 'InputPFS'  #args.detector\n",
    "net = 'resnet50'       #args.net\n",
    "\n",
    "b = str(128)\n",
    "\n",
    "#load adversarials and their non-adversarial counterpart\n",
    "print('Loading images and adversarial examples...')\n",
    "\n",
    "root_dir = './data/' + IMAGE_SIZE + '_' + net + '_adversarial_images/'\n",
    "\n",
    "epsilon = ''\n",
    "if attack_method == 'fgsm' or attack_method == 'bim' or attack_method == 'pgd':\n",
    "    epsilon = '_' + str(settings.EPSILON)\n",
    "\n",
    "images = torch.load(root_dir + net + '_images_' + b + '_' + settings.DATA.lower() + '_' + attack_method + epsilon)\n",
    "images_advs = torch.load(root_dir + net + '_images_adv_' + b + '_' + settings.DATA.lower() + '_' + attack_method + epsilon)"
   ]
  },
  {
   "cell_type": "code",
   "execution_count": 114,
   "id": "lasting-implement",
   "metadata": {},
   "outputs": [
    {
     "name": "stdout",
     "output_type": "stream",
     "text": [
      "number_images:  3407\n"
     ]
    }
   ],
   "source": [
    "number_images = len(images)\n",
    "print('number_images: ', number_images)"
   ]
  },
  {
   "cell_type": "code",
   "execution_count": 115,
   "id": "external-association",
   "metadata": {},
   "outputs": [],
   "source": [
    "from models.resnet import resnet50\n",
    "\n",
    "# model.load_state_dict(torch.load(settings.CHECKPOINT_PATH))"
   ]
  },
  {
   "cell_type": "code",
   "execution_count": 116,
   "id": "exceptional-reggae",
   "metadata": {},
   "outputs": [],
   "source": [
    "model = resnet50(num_classes=2)"
   ]
  },
  {
   "cell_type": "code",
   "execution_count": 117,
   "id": "north-elizabeth",
   "metadata": {},
   "outputs": [
    {
     "data": {
      "text/plain": [
       "<All keys matched successfully>"
      ]
     },
     "execution_count": 117,
     "metadata": {},
     "output_type": "execute_result"
    }
   ],
   "source": [
    "CHECKPOINT_PATH = './checkpoint/resnet50/32x32_128_0.1_Smiling_Wednesday_07_April_2021_17h_51m_22s/resnet50-121-best.pth'\n",
    "model.load_state_dict(torch.load(CHECKPOINT_PATH))"
   ]
  },
  {
   "cell_type": "code",
   "execution_count": 118,
   "id": "fixed-capacity",
   "metadata": {},
   "outputs": [],
   "source": [
    "model = model.eval()\n",
    "model = model.cuda()"
   ]
  },
  {
   "cell_type": "code",
   "execution_count": 119,
   "id": "guided-extent",
   "metadata": {},
   "outputs": [],
   "source": [
    "# Visualize feature maps\n",
    "activation = {}\n",
    "def get_activation(name):\n",
    "    def hook(model, input, output):\n",
    "        activation[name] = output.detach()\n",
    "    return hook"
   ]
  },
  {
   "cell_type": "code",
   "execution_count": 120,
   "id": "absolute-stereo",
   "metadata": {},
   "outputs": [
    {
     "data": {
      "text/plain": [
       "<torch.utils.hooks.RemovableHandle at 0x7f1b42eb6c90>"
      ]
     },
     "execution_count": 120,
     "metadata": {},
     "output_type": "execute_result"
    }
   ],
   "source": [
    "\n",
    "model.conv1[2].register_forward_hook(get_activation('conv1_relu_2'))\n",
    "model.conv2_x[0].residual_function[2].register_forward_hook(get_activation('conv2_0_relu_2'))\n",
    "model.conv2_x[0].residual_function[5].register_forward_hook(get_activation('conv2_0_relu_5'))\n",
    "model.conv2_x[1].residual_function[2].register_forward_hook(get_activation('conv2_1_relu_2'))\n",
    "model.conv2_x[1].residual_function[3].register_forward_hook(get_activation('conv2_1_conv2d_3'))\n",
    "model.conv2_x[1].residual_function[5].register_forward_hook(get_activation('conv2_1_relu_5'))\n",
    "model.conv2_x[2].residual_function[2].register_forward_hook(get_activation('conv2_2_relu_2'))\n",
    "model.conv2_x[2].residual_function[5].register_forward_hook(get_activation('conv2_2_relu_5'))\n",
    "\n",
    "model.conv3_x[0].residual_function[2].register_forward_hook(get_activation('conv3_0_relu_2'))\n",
    "model.conv3_x[0].residual_function[5].register_forward_hook(get_activation('conv3_0_relu_5'))\n",
    "model.conv3_x[1].residual_function[2].register_forward_hook(get_activation('conv3_1_relu_2'))\n",
    "model.conv3_x[1].residual_function[3].register_forward_hook(get_activation('conv3_1_conv2d_3'))\n",
    "model.conv3_x[1].residual_function[5].register_forward_hook(get_activation('conv3_1_relu_5'))\n",
    "model.conv3_x[2].residual_function[2].register_forward_hook(get_activation('conv3_2_relu_2'))\n",
    "model.conv3_x[2].residual_function[5].register_forward_hook(get_activation('conv3_2_relu_5'))\n",
    "\n",
    "model.conv4_x[0].residual_function[2].register_forward_hook(get_activation('conv4_0_relu_2'))\n",
    "model.conv4_x[0].residual_function[5].register_forward_hook(get_activation('conv4_0_relu_5'))\n",
    "model.conv4_x[1].residual_function[2].register_forward_hook(get_activation('conv4_1_relu_2'))\n",
    "model.conv4_x[1].residual_function[3].register_forward_hook(get_activation('conv4_1_conv2d_3'))\n",
    "model.conv4_x[1].residual_function[5].register_forward_hook(get_activation('conv4_1_relu_5'))\n",
    "model.conv4_x[2].residual_function[2].register_forward_hook(get_activation('conv4_2_relu_2'))\n",
    "model.conv4_x[2].residual_function[5].register_forward_hook(get_activation('conv4_2_relu_5'))\n",
    "\n",
    "model.conv5_x[0].residual_function[2].register_forward_hook(get_activation('conv5_0_relu_2'))\n",
    "model.conv5_x[0].residual_function[5].register_forward_hook(get_activation('conv5_0_relu_5'))\n",
    "model.conv5_x[1].residual_function[2].register_forward_hook(get_activation('conv5_1_relu_2'))\n",
    "model.conv5_x[1].residual_function[3].register_forward_hook(get_activation('conv5_1_conv2d_3'))\n",
    "model.conv5_x[1].residual_function[5].register_forward_hook(get_activation('conv5_1_relu_5'))\n",
    "model.conv5_x[2].residual_function[2].register_forward_hook(get_activation('conv5_2_relu_2'))\n",
    "model.conv5_x[2].residual_function[5].register_forward_hook(get_activation('conv5_2_relu_5'))\n",
    "\n",
    "model.avg_pool.register_forward_hook(get_activation('avg_pool'))\n",
    "model.fc.register_forward_hook(get_activation('fc'))\n",
    "\n"
   ]
  },
  {
   "cell_type": "code",
   "execution_count": 121,
   "id": "excess-consultancy",
   "metadata": {},
   "outputs": [],
   "source": [
    "data = images[0].unsqueeze_(0)\n",
    "output = model(data)"
   ]
  },
  {
   "cell_type": "code",
   "execution_count": 122,
   "id": "wrapped-retirement",
   "metadata": {},
   "outputs": [
    {
     "data": {
      "text/plain": [
       "torch.Size([1, 2])"
      ]
     },
     "execution_count": 122,
     "metadata": {},
     "output_type": "execute_result"
    }
   ],
   "source": [
    "output.shape"
   ]
  },
  {
   "cell_type": "code",
   "execution_count": 123,
   "id": "incorrect-teens",
   "metadata": {},
   "outputs": [
    {
     "data": {
      "text/plain": [
       "<matplotlib.image.AxesImage at 0x7f1b428b7850>"
      ]
     },
     "execution_count": 123,
     "metadata": {},
     "output_type": "execute_result"
    },
    {
     "data": {
      "image/png": "[encoded data removed]",
      "text/plain": [
       "<Figure size 432x288 with 1 Axes>"
      ]
     },
     "metadata": {
      "needs_background": "light"
     },
     "output_type": "display_data"
    }
   ],
   "source": [
    "act = activation['conv1_relu_2'].squeeze()\n",
    "plt.imshow(act[63].cpu())"
   ]
  },
  {
   "cell_type": "code",
   "execution_count": 124,
   "id": "bronze-america",
   "metadata": {},
   "outputs": [
    {
     "data": {
      "text/plain": [
       "<matplotlib.image.AxesImage at 0x7f1b4277d550>"
      ]
     },
     "execution_count": 124,
     "metadata": {},
     "output_type": "execute_result"
    },
    {
     "data": {
      "image/png": "[encoded data removed]",
      "text/plain": [
       "<Figure size 432x288 with 1 Axes>"
      ]
     },
     "metadata": {
      "needs_background": "light"
     },
     "output_type": "display_data"
    }
   ],
   "source": [
    "act = activation['conv2_0_relu_2'].squeeze()\n",
    "plt.imshow(act[63].cpu())"
   ]
  },
  {
   "cell_type": "code",
   "execution_count": 125,
   "id": "statutory-action",
   "metadata": {},
   "outputs": [
    {
     "data": {
      "text/plain": [
       "<matplotlib.image.AxesImage at 0x7f1b41ecd3d0>"
      ]
     },
     "execution_count": 125,
     "metadata": {},
     "output_type": "execute_result"
    },
    {
     "data": {
      "image/png": "[encoded data removed]",
      "text/plain": [
       "<Figure size 432x288 with 1 Axes>"
      ]
     },
     "metadata": {
      "needs_background": "light"
     },
     "output_type": "display_data"
    }
   ],
   "source": [
    "act = activation['conv2_2_relu_5'].squeeze()\n",
    "plt.imshow(act[63].cpu())"
   ]
  },
  {
   "cell_type": "code",
   "execution_count": 126,
   "id": "governing-shark",
   "metadata": {},
   "outputs": [
    {
     "data": {
      "text/plain": [
       "<matplotlib.image.AxesImage at 0x7f1b42df2090>"
      ]
     },
     "execution_count": 126,
     "metadata": {},
     "output_type": "execute_result"
    },
    {
     "data": {
      "image/png": "[encoded data removed]",
      "text/plain": [
       "<Figure size 432x288 with 1 Axes>"
      ]
     },
     "metadata": {
      "needs_background": "light"
     },
     "output_type": "display_data"
    }
   ],
   "source": [
    "act = activation['conv3_0_relu_2'].squeeze()\n",
    "plt.imshow(act[63].cpu())"
   ]
  },
  {
   "cell_type": "code",
   "execution_count": 127,
   "id": "early-reporter",
   "metadata": {},
   "outputs": [
    {
     "name": "stdout",
     "output_type": "stream",
     "text": [
      "torch.Size([1, 128, 16, 16])\n"
     ]
    },
    {
     "data": {
      "text/plain": [
       "<matplotlib.image.AxesImage at 0x7f1b4828cb10>"
      ]
     },
     "execution_count": 127,
     "metadata": {},
     "output_type": "execute_result"
    },
    {
     "data": {
      "image/png": "[encoded data removed]",
      "text/plain": [
       "<Figure size 432x288 with 1 Axes>"
      ]
     },
     "metadata": {
      "needs_background": "light"
     },
     "output_type": "display_data"
    }
   ],
   "source": [
    "act = activation['conv3_2_relu_5']\n",
    "print(act.shape)\n",
    "act = act.squeeze()\n",
    "plt.imshow(act[63].cpu())"
   ]
  },
  {
   "cell_type": "code",
   "execution_count": 128,
   "id": "graphic-latex",
   "metadata": {},
   "outputs": [
    {
     "data": {
      "text/plain": [
       "<matplotlib.image.AxesImage at 0x7f1b481da810>"
      ]
     },
     "execution_count": 128,
     "metadata": {},
     "output_type": "execute_result"
    },
    {
     "data": {
      "image/png": "[encoded data removed]",
      "text/plain": [
       "<Figure size 432x288 with 1 Axes>"
      ]
     },
     "metadata": {
      "needs_background": "light"
     },
     "output_type": "display_data"
    }
   ],
   "source": [
    "act = activation['conv4_2_relu_5'].squeeze()\n",
    "plt.imshow(act[63].cpu())"
   ]
  },
  {
   "cell_type": "code",
   "execution_count": 129,
   "id": "afraid-blackjack",
   "metadata": {},
   "outputs": [],
   "source": [
    "act = activation['conv5_0_relu_2'].squeeze()\n"
   ]
  },
  {
   "cell_type": "code",
   "execution_count": 130,
   "id": "reflected-expense",
   "metadata": {},
   "outputs": [
    {
     "data": {
      "text/plain": [
       "torch.Size([512, 8, 8])"
      ]
     },
     "execution_count": 130,
     "metadata": {},
     "output_type": "execute_result"
    }
   ],
   "source": [
    "act.shape"
   ]
  },
  {
   "cell_type": "code",
   "execution_count": 131,
   "id": "based-context",
   "metadata": {},
   "outputs": [
    {
     "data": {
      "text/plain": [
       "<matplotlib.image.AxesImage at 0x7f1b426a9cd0>"
      ]
     },
     "execution_count": 131,
     "metadata": {},
     "output_type": "execute_result"
    },
    {
     "data": {
      "image/png": "[encoded data removed]",
      "text/plain": [
       "<Figure size 432x288 with 1 Axes>"
      ]
     },
     "metadata": {
      "needs_background": "light"
     },
     "output_type": "display_data"
    }
   ],
   "source": [
    "plt.imshow(act[63].cpu())"
   ]
  },
  {
   "cell_type": "code",
   "execution_count": null,
   "id": "tribal-front",
   "metadata": {},
   "outputs": [],
   "source": []
  },
  {
   "cell_type": "code",
   "execution_count": 133,
   "id": "biological-girlfriend",
   "metadata": {},
   "outputs": [
    {
     "name": "stdout",
     "output_type": "stream",
     "text": [
      "torch.Size([1, 64, 32, 32])\n"
     ]
    },
    {
     "data": {
      "text/plain": [
       "<matplotlib.image.AxesImage at 0x7f1b42713d90>"
      ]
     },
     "execution_count": 133,
     "metadata": {},
     "output_type": "execute_result"
    },
    {
     "data": {
      "image/png": "[encoded data removed]",
      "text/plain": [
       "<Figure size 432x288 with 1 Axes>"
      ]
     },
     "metadata": {
      "needs_background": "light"
     },
     "output_type": "display_data"
    }
   ],
   "source": [
    "act = activation['conv2_1_conv2d_3']\n",
    "print(act.shape)\n",
    "act = act.squeeze()\n",
    "plt.imshow(act[63].cpu())"
   ]
  },
  {
   "cell_type": "code",
   "execution_count": 134,
   "id": "acting-functionality",
   "metadata": {},
   "outputs": [
    {
     "name": "stdout",
     "output_type": "stream",
     "text": [
      "torch.Size([1, 128, 16, 16])\n"
     ]
    },
    {
     "data": {
      "text/plain": [
       "<matplotlib.image.AxesImage at 0x7f1b428a4b10>"
      ]
     },
     "execution_count": 134,
     "metadata": {},
     "output_type": "execute_result"
    },
    {
     "data": {
      "image/png": "[encoded data removed]",
      "text/plain": [
       "<Figure size 432x288 with 1 Axes>"
      ]
     },
     "metadata": {
      "needs_background": "light"
     },
     "output_type": "display_data"
    }
   ],
   "source": [
    "act = activation['conv3_1_conv2d_3']\n",
    "print(act.shape)\n",
    "act = act.squeeze()\n",
    "plt.imshow(act[63].cpu())"
   ]
  },
  {
   "cell_type": "code",
   "execution_count": 136,
   "id": "logical-balloon",
   "metadata": {},
   "outputs": [
    {
     "name": "stdout",
     "output_type": "stream",
     "text": [
      "torch.Size([1, 512, 4, 4])\n"
     ]
    },
    {
     "data": {
      "text/plain": [
       "<matplotlib.image.AxesImage at 0x7f1b42385fd0>"
      ]
     },
     "execution_count": 136,
     "metadata": {},
     "output_type": "execute_result"
    },
    {
     "data": {
      "image/png": "[encoded data removed]",
      "text/plain": [
       "<Figure size 432x288 with 1 Axes>"
      ]
     },
     "metadata": {
      "needs_background": "light"
     },
     "output_type": "display_data"
    }
   ],
   "source": [
    "act = activation['conv5_1_conv2d_3']\n",
    "print(act.shape)\n",
    "act = act.squeeze()\n",
    "plt.imshow(act[63].cpu())"
   ]
  },
  {
   "cell_type": "code",
   "execution_count": 14,
   "id": "mighty-seattle",
   "metadata": {},
   "outputs": [],
   "source": [
    "img = np.load('./a.npy')"
   ]
  },
  {
   "cell_type": "code",
   "execution_count": 15,
   "id": "47f993df-94e1-4e8b-a478-7002c26a3c84",
   "metadata": {},
   "outputs": [
    {
     "data": {
      "text/plain": [
       "(32, 32, 3)"
      ]
     },
     "execution_count": 15,
     "metadata": {},
     "output_type": "execute_result"
    }
   ],
   "source": [
    "img.shape"
   ]
  },
  {
   "cell_type": "code",
   "execution_count": 16,
   "id": "529c7c70-1b65-462b-bfdf-e2c13fed7f24",
   "metadata": {},
   "outputs": [
    {
     "data": {
      "text/plain": [
       "<Figure size 432x288 with 0 Axes>"
      ]
     },
     "execution_count": 16,
     "metadata": {},
     "output_type": "execute_result"
    },
    {
     "data": {
      "text/plain": [
       "<Figure size 432x288 with 0 Axes>"
      ]
     },
     "metadata": {},
     "output_type": "display_data"
    }
   ],
   "source": [
    "plt.figure()"
   ]
  },
  {
   "cell_type": "code",
   "execution_count": 17,
   "id": "f988e311-67eb-4620-a279-7262415aae69",
   "metadata": {},
   "outputs": [
    {
     "ename": "RuntimeError",
     "evalue": "No mappable was found to use for colorbar creation. First define a mappable such as an image (with imshow) or a contour set (with contourf).",
     "output_type": "error",
     "traceback": [
      "\u001b[0;31m---------------------------------------------------------------------------\u001b[0m",
      "\u001b[0;31mRuntimeError\u001b[0m                              Traceback (most recent call last)",
      "\u001b[0;32m<ipython-input-17-58b169089b9f>\u001b[0m in \u001b[0;36m<module>\u001b[0;34m\u001b[0m\n\u001b[0;32m----> 1\u001b[0;31m \u001b[0mplt\u001b[0m\u001b[0;34m.\u001b[0m\u001b[0mcolorbar\u001b[0m\u001b[0;34m(\u001b[0m\u001b[0;34m)\u001b[0m\u001b[0;34m\u001b[0m\u001b[0;34m\u001b[0m\u001b[0m\n\u001b[0m",
      "\u001b[0;32m~/.conda/envs/bm/lib/python3.7/site-packages/matplotlib/pyplot.py\u001b[0m in \u001b[0;36mcolorbar\u001b[0;34m(mappable, cax, ax, **kw)\u001b[0m\n\u001b[1;32m   2319\u001b[0m         \u001b[0mmappable\u001b[0m \u001b[0;34m=\u001b[0m \u001b[0mgci\u001b[0m\u001b[0;34m(\u001b[0m\u001b[0;34m)\u001b[0m\u001b[0;34m\u001b[0m\u001b[0;34m\u001b[0m\u001b[0m\n\u001b[1;32m   2320\u001b[0m         \u001b[0;32mif\u001b[0m \u001b[0mmappable\u001b[0m \u001b[0;32mis\u001b[0m \u001b[0;32mNone\u001b[0m\u001b[0;34m:\u001b[0m\u001b[0;34m\u001b[0m\u001b[0;34m\u001b[0m\u001b[0m\n\u001b[0;32m-> 2321\u001b[0;31m             raise RuntimeError('No mappable was found to use for colorbar '\n\u001b[0m\u001b[1;32m   2322\u001b[0m                                \u001b[0;34m'creation. First define a mappable such as '\u001b[0m\u001b[0;34m\u001b[0m\u001b[0;34m\u001b[0m\u001b[0m\n\u001b[1;32m   2323\u001b[0m                                \u001b[0;34m'an image (with imshow) or a contour set ('\u001b[0m\u001b[0;34m\u001b[0m\u001b[0;34m\u001b[0m\u001b[0m\n",
      "\u001b[0;31mRuntimeError\u001b[0m: No mappable was found to use for colorbar creation. First define a mappable such as an image (with imshow) or a contour set (with contourf)."
     ]
    },
    {
     "data": {
      "text/plain": [
       "<Figure size 432x288 with 0 Axes>"
      ]
     },
     "metadata": {},
     "output_type": "display_data"
    }
   ],
   "source": [
    "plt.colorbar()"
   ]
  },
  {
   "cell_type": "code",
   "execution_count": 20,
   "id": "d2207ade-7789-4c43-a665-55c22e0ee6b0",
   "metadata": {},
   "outputs": [
    {
     "name": "stderr",
     "output_type": "stream",
     "text": [
      "Clipping input data to the valid range for imshow with RGB data ([0..1] for floats or [0..255] for integers).\n"
     ]
    },
    {
     "data": {
      "image/png": "[encoded data removed]",
      "text/plain": [
       "<Figure size 432x288 with 1 Axes>"
      ]
     },
     "metadata": {
      "needs_background": "light"
     },
     "output_type": "display_data"
    }
   ],
   "source": [
    "plt.imshow(img, cmap='gray')\n",
    "plt.show()"
   ]
  }
 ],
 "metadata": {
  "kernelspec": {
   "display_name": "Python [conda env:.conda-cuda--11-1-1--pytorch--1-9-0]",
   "language": "python",
   "name": "conda-env-.conda-cuda--11-1-1--pytorch--1-9-0-py"
  },
  "language_info": {
   "codemirror_mode": {
    "name": "ipython",
    "version": 3
   },
   "file_extension": ".py",
   "mimetype": "text/x-python",
   "name": "python",
   "nbconvert_exporter": "python",
   "pygments_lexer": "ipython3",
   "version": "3.9.12"
  }
 },
 "nbformat": 4,
 "nbformat_minor": 5
}
