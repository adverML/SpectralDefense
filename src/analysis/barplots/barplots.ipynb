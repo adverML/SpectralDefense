{
 "cells": [
  {
   "cell_type": "code",
   "execution_count": 6,
   "id": "38b0953c-1c5c-4d49-988e-46ff3f47a5d3",
   "metadata": {},
   "outputs": [],
   "source": [
    "import numpy as np\n",
    "import matplotlib.pyplot as plt\n",
    "import pandas as pd"
   ]
  },
  {
   "cell_type": "code",
   "execution_count": 7,
   "id": "884c8161-c7d9-4c63-b2a2-f6679a94cf40",
   "metadata": {},
   "outputs": [
    {
     "name": "stdout",
     "output_type": "stream",
     "text": [
      "        DataSet  Gauss   FGSM    BIM    PGD     AA     DF     CW\n",
      "0         cif10   0.00   0.00   0.00   0.00   0.00  43.67  42.67\n",
      "1    imagenet32  28.75   0.33  12.67  11.67  11.00  54.17  41.67\n",
      "2  celebaHQ32_4   6.25  14.15  20.14  27.89  21.67  52.00  52.33\n"
     ]
    },
    {
     "data": {
      "image/png": "[encoded data removed]",
      "text/plain": [
       "<Figure size 432x288 with 1 Axes>"
      ]
     },
     "metadata": {
      "needs_background": "light"
     },
     "output_type": "display_data"
    }
   ],
   "source": [
    " \n",
    "# create data\n",
    "df = pd.DataFrame([['cif10', 0, 0, 0, 0, 0, 43.67, 42.67], ['imagenet32', 28.75, 0.33, 12.67, 11.67, 11, 54.17, 41.67], ['celebaHQ32_4', 6.25, 14.15, 20.14, 27.89, 21.67, 52, 52.33]],\n",
    "                  columns=['DataSet', \"Gauss\", \"FGSM\", \"BIM\", \"PGD\",\"AA\", \"DF\", \"CW\"])\n",
    "\n",
    "\n",
    "color = ['pink', 'blue', 'red','green','cyan','orange', 'purple']\n",
    "\n",
    "# view data\n",
    "print(df)\n",
    "  \n",
    "# plot grouped bar chart\n",
    "ax = df.plot(\n",
    "        x='DataSet',\n",
    "        # xlabel=\"DataSet\",\n",
    "        rot=0,\n",
    "        color=color,\n",
    "        kind='bar',\n",
    "        stacked=False,\n",
    "        # title=\"BB - Random Forest\", \n",
    "        # ylabel='ASRD',\n",
    "        ylim=[0,58.0]\n",
    "        )\n",
    "\n",
    "\n",
    "ax.set_title(\"BB - Random Forest\", fontweight='bold')\n",
    "ax.set_ylabel(\"ASRD\", fontweight='bold')\n",
    "ax.set_xlabel(\"DataSet\", fontweight='bold')\n",
    "\n",
    "plt.legend(loc='upper left', framealpha=0.3)\n",
    "\n",
    "# plt.savefig(\"bar_bb.png\", bbox_inches='tight')\n",
    "plt.savefig(\"bar_bb.png\")\n"
   ]
  },
  {
   "cell_type": "code",
   "execution_count": 1,
   "id": "0e62544b-d498-4f37-b44c-8373bb242eb8",
   "metadata": {},
   "outputs": [
    {
     "name": "stdout",
     "output_type": "stream",
     "text": [
      "        DataSet  Gauss  FGSM   BIM   PGD    AA     DF     CW\n",
      "0         cif10   4.00  0.00  1.00  0.00  0.33   7.33   2.33\n",
      "1    imagenet32   0.75  0.00  1.67  1.00  0.33  53.33  47.47\n",
      "2  celebaHQ32_4   1.05  0.33  2.82  9.21  3.95   9.67   0.67\n"
     ]
    },
    {
     "data": {
      "image/png": "[encoded data removed]",
      "text/plain": [
       "<Figure size 432x288 with 1 Axes>"
      ]
     },
     "metadata": {
      "needs_background": "light"
     },
     "output_type": "display_data"
    }
   ],
   "source": [
    "import matplotlib.pyplot as plt\n",
    "import pandas as pd\n",
    "  \n",
    "# create data\n",
    "df = pd.DataFrame([['cif10',        4,    0, 1,    0, 0.33, 7.33, 2.33], \n",
    "                   ['imagenet32',   0.75, 0, 1.67, 1, 0.33, 53.33, 47.47], \n",
    "                   ['celebaHQ32_4', 1.05, 0.33, 2.82, 9.21, 3.95, 9.67, 0.67]],\n",
    "                  columns=['DataSet', \"Gauss\", \"FGSM\", \"BIM\", \"PGD\",\"AA\", \"DF\", \"CW\"])\n",
    "\n",
    "\n",
    "color = [\"pink\", 'blue', 'red','green','cyan','orange', 'purple']\n",
    "\n",
    "# view data\n",
    "print(df)\n",
    "  \n",
    "# plot grouped bar chart\n",
    "ax = df.plot(\n",
    "        x='DataSet',\n",
    "        xlabel=\"DataSet\",\n",
    "        rot=0,\n",
    "#         fontsize=20,\n",
    "        color=color,\n",
    "        kind='bar',\n",
    "        stacked=False,\n",
    "        title=\"WB - Random Forest\", \n",
    "        ylabel='ASRD',\n",
    "        ylim=[0,58.0]\n",
    "        )\n",
    "\n",
    "ax.set_title(\"WB - Random Forest\", fontweight='bold')\n",
    "ax.set_ylabel(\"ASRD\", fontweight='bold')\n",
    "ax.set_xlabel(\"DataSet\", fontweight='bold')\n",
    "\n",
    "plt.legend(loc='upper left', framealpha=0.3)\n",
    "\n",
    "\n",
    "# plt.savefig(\"bar_wb.png\", bbox_inches='tight')\n",
    "plt.savefig(\"bar_wb.png\")\n"
   ]
  },
  {
   "cell_type": "code",
   "execution_count": null,
   "id": "6adff9d8-f37a-4c04-8e79-8f93769a5c38",
   "metadata": {},
   "outputs": [],
   "source": []
  },
  {
   "cell_type": "code",
   "execution_count": null,
   "id": "a16b70e7-214b-48a2-bd43-29f130a4a22c",
   "metadata": {},
   "outputs": [],
   "source": []
  }
 ],
 "metadata": {
  "kernelspec": {
   "display_name": "Python [conda env:.conda-cuda--11-1-1--pytorch--1-9-0]",
   "language": "python",
   "name": "conda-env-.conda-cuda--11-1-1--pytorch--1-9-0-py"
  },
  "language_info": {
   "codemirror_mode": {
    "name": "ipython",
    "version": 3
   },
   "file_extension": ".py",
   "mimetype": "text/x-python",
   "name": "python",
   "nbconvert_exporter": "python",
   "pygments_lexer": "ipython3",
   "version": "3.9.12"
  }
 },
 "nbformat": 4,
 "nbformat_minor": 5
}
