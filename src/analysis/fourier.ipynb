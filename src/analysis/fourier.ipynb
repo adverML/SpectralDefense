{
 "cells": [
  {
   "cell_type": "code",
   "execution_count": 1,
   "id": "61dff401-b2ff-43fb-ba5a-1f5cdfba82db",
   "metadata": {},
   "outputs": [],
   "source": [
    "import numpy as np\n",
    "import matplotlib.pyplot as plt\n",
    "\n",
    "import pickle \n",
    "import torch"
   ]
  },
  {
   "cell_type": "code",
   "execution_count": 2,
   "id": "2c18d5b8-a53b-4ce1-bd56-8451b006e443",
   "metadata": {},
   "outputs": [],
   "source": [
    "def max_projection_fft(x):\n",
    "    x_image = np.fft.fft2(x)\n",
    "    #calculate the max for each pixel over the channels\n",
    "    max_image = x_image[0,:,:].copy()\n",
    "    #x_image = np.abs(x_image) #only look at the magnitude\n",
    "    n = len(max_image)\n",
    "    for i in range(n):\n",
    "        for j in range(n):\n",
    "            max_image[i,j] = max(np.abs(x_image[:,i,j]))\n",
    "    return max_image"
   ]
  },
  {
   "cell_type": "code",
   "execution_count": 7,
   "id": "640f4b3f-3b5a-4b40-b6f6-054303f20792",
   "metadata": {},
   "outputs": [],
   "source": [
    "def plot_spectrum(fft_im, vmin, scale_factor):\n",
    "    fshift0 = np.fft.fftshift(fft_im) #shifts the zero-frequency component to the center of the spectrum\n",
    "    magnitude_spectrum = (np.log10(np.abs(fshift0*(np.power(10,scale_factor+1)-1)/np.power(10,scale_factor)+1/np.power(10,scale_factor)))+scale_factor)*1/(scale_factor+1)\n",
    "    #plt.imshow(np.transpose(np.abs(magnitude_spectrum), (1, 2, 0)), vmin=vmin)\n",
    "    plt.imshow(np.abs(magnitude_spectrum),  vmin=vmin)"
   ]
  },
  {
   "cell_type": "code",
   "execution_count": 8,
   "id": "dd2eadb1-6e5a-453f-b468-4bb2e37cd8e8",
   "metadata": {},
   "outputs": [],
   "source": [
    "orig = \"/home/lorenzp/adversialml/src/pytorch-CelebAHQ/auto-attack/adv_complete/std/0.031373_std_6000_Linf_sorted_orig\"\n",
    "pert = \"/home/lorenzp/adversialml/src/pytorch-CelebAHQ/auto-attack/adv_complete/std/0.031373_std_6000_Linf_sorted_pert\""
   ]
  },
  {
   "cell_type": "code",
   "execution_count": 9,
   "id": "b62ce854-9650-4599-bc8e-7cc023a38dd0",
   "metadata": {},
   "outputs": [],
   "source": [
    "adv_p = \"/home/lorenzp/adversialml/src/pytorch-CelebAHQ/data/characteristics/std/cif10_std_LayerMFS_gray_eps_0.031373_adv.p\"\n",
    "orig_p = \"/home/lorenzp/adversialml/src/pytorch-CelebAHQ/data/characteristics/std/cif10_std_LayerMFS_gray_eps_0.031373.p\""
   ]
  },
  {
   "cell_type": "code",
   "execution_count": 10,
   "id": "1318db6f-632d-45ab-8904-db415d391700",
   "metadata": {},
   "outputs": [
    {
     "ename": "FileNotFoundError",
     "evalue": "[Errno 2] No such file or directory: '/home/lorenzp/adversialml/src/pytorch-CelebAHQ/data/characteristics/std/cif10_std_LayerMFS_gray_eps_0.031373.p'",
     "output_type": "error",
     "traceback": [
      "\u001b[0;31m---------------------------------------------------------------------------\u001b[0m",
      "\u001b[0;31mFileNotFoundError\u001b[0m                         Traceback (most recent call last)",
      "Input \u001b[0;32mIn [10]\u001b[0m, in \u001b[0;36m<cell line: 1>\u001b[0;34m()\u001b[0m\n\u001b[0;32m----> 1\u001b[0m orig_col \u001b[38;5;241m=\u001b[39m pickle\u001b[38;5;241m.\u001b[39mload( \u001b[38;5;28;43mopen\u001b[39;49m\u001b[43m(\u001b[49m\u001b[43m \u001b[49m\u001b[43morig_p\u001b[49m\u001b[43m,\u001b[49m\u001b[43m \u001b[49m\u001b[38;5;124;43m\"\u001b[39;49m\u001b[38;5;124;43mrb\u001b[39;49m\u001b[38;5;124;43m\"\u001b[39;49m\u001b[43m \u001b[49m\u001b[43m)\u001b[49m )[\u001b[38;5;241m0\u001b[39m]\n\u001b[1;32m      2\u001b[0m pickle_col \u001b[38;5;241m=\u001b[39m pickle\u001b[38;5;241m.\u001b[39mload( \u001b[38;5;28mopen\u001b[39m( adv_p, \u001b[38;5;124m\"\u001b[39m\u001b[38;5;124mrb\u001b[39m\u001b[38;5;124m\"\u001b[39m ) )[\u001b[38;5;241m0\u001b[39m]\n",
      "\u001b[0;31mFileNotFoundError\u001b[0m: [Errno 2] No such file or directory: '/home/lorenzp/adversialml/src/pytorch-CelebAHQ/data/characteristics/std/cif10_std_LayerMFS_gray_eps_0.031373.p'"
     ]
    }
   ],
   "source": [
    "orig_col = pickle.load( open( orig_p, \"rb\" ) )[0]\n",
    "pickle_col = pickle.load( open( adv_p, \"rb\" ) )[0]"
   ]
  },
  {
   "cell_type": "code",
   "execution_count": null,
   "id": "2f771b70-dad2-49b8-a017-5378f54c61f7",
   "metadata": {},
   "outputs": [],
   "source": [
    "# orig_img   = torch.load( orig )[0].cpu().numpy().transpose([1,2,0])\n",
    "# pick_img   = torch.load( pert )[0].cpu().numpy().transpose([1,2,0])\n",
    "orig_img   = torch.load( orig )[0].cpu().numpy()\n",
    "pick_img   = torch.load( pert )[0].cpu().numpy()"
   ]
  },
  {
   "cell_type": "code",
   "execution_count": null,
   "id": "858495c3-1b59-4184-91a1-bfbb5c6aca8e",
   "metadata": {},
   "outputs": [],
   "source": [
    "orig_img.shape"
   ]
  },
  {
   "cell_type": "code",
   "execution_count": null,
   "id": "89d27eab-f217-4088-90ef-e9719690aafc",
   "metadata": {},
   "outputs": [],
   "source": [
    "type(orig_img)"
   ]
  },
  {
   "cell_type": "code",
   "execution_count": null,
   "id": "6f901d9c-f0c7-44e2-b73a-a66307e60519",
   "metadata": {},
   "outputs": [],
   "source": [
    "plt.imshow(orig_img)"
   ]
  },
  {
   "cell_type": "code",
   "execution_count": null,
   "id": "cab53918-3717-43a2-8393-b48dcd0c1c48",
   "metadata": {},
   "outputs": [],
   "source": [
    "plt.imshow(pick_img)"
   ]
  },
  {
   "cell_type": "code",
   "execution_count": null,
   "id": "f2a94ef2-c164-419e-84d0-2b8afa9a96cf",
   "metadata": {},
   "outputs": [],
   "source": [
    "plt.figure()\n",
    "plt.imshow(np.abs(orig_img - pick_img))\n",
    "plt.colorbar()"
   ]
  },
  {
   "cell_type": "code",
   "execution_count": 13,
   "id": "946e72d7-b974-496f-9c0c-7901559b35f9",
   "metadata": {},
   "outputs": [],
   "source": [
    "img = max_projection_fft(orig_img)\n",
    "att = max_projection_fft(pick_img)"
   ]
  },
  {
   "cell_type": "code",
   "execution_count": 14,
   "id": "b87c32fe-855f-4391-9365-d6dab9aa328d",
   "metadata": {},
   "outputs": [
    {
     "data": {
      "image/png": "[encoded data removed]",
      "text/plain": [
       "<Figure size 432x288 with 1 Axes>"
      ]
     },
     "metadata": {
      "needs_background": "light"
     },
     "output_type": "display_data"
    }
   ],
   "source": [
    "fft = max_projection_fft(orig_img)\n",
    "ad_fft = max_projection_fft(pick_img)\n",
    "ad_fft *= 1/np.max(ad_fft)\n",
    "fft *= 1/np.max(fft)\n",
    "scale_factor=5\n",
    "m_n = (np.log10(np.abs(np.fft.fftshift(np.abs(fft))*(np.power(10,scale_factor+1)-1)/np.power(10,scale_factor)+1/np.power(10,scale_factor)))+scale_factor)*1/(scale_factor+1)\n",
    "m_a = (np.log10(np.abs(np.fft.fftshift(np.abs(ad_fft))*(np.power(10,scale_factor+1)-1)/np.power(10,scale_factor)+1/np.power(10,scale_factor)))+scale_factor)*1/(scale_factor+1)\n",
    "vmin = min(np.min(m_n),np.min(m_a))\n",
    "\n",
    "plot_spectrum(fft, vmin=vmin, scale_factor=5)\n",
    "# plt.axis('off')\n",
    "# #plt.colorbar()\n",
    "# #adversarial image\n",
    "# plt.subplot(3,2,3)\n",
    "# plt.title('Adversarial image', fontsize=24)\n",
    "# plot_im(ad)\n",
    "# plt.axis('off')\n",
    "# plt.subplot(3,2,4)\n",
    "# plt.title('Adversarial Fourier spectrum', fontsize=24)"
   ]
  },
  {
   "cell_type": "code",
   "execution_count": 15,
   "id": "3088db34-02bc-460d-a555-73869226b7a5",
   "metadata": {},
   "outputs": [
    {
     "data": {
      "image/png": "[encoded data removed]",
      "text/plain": [
       "<Figure size 432x288 with 1 Axes>"
      ]
     },
     "metadata": {
      "needs_background": "light"
     },
     "output_type": "display_data"
    }
   ],
   "source": [
    "plot_spectrum(ad_fft, vmin=vmin, scale_factor=5)"
   ]
  },
  {
   "cell_type": "code",
   "execution_count": 17,
   "id": "2a6d1753-33e7-4825-be66-5efb54c2a045",
   "metadata": {},
   "outputs": [
    {
     "data": {
      "text/plain": [
       "<matplotlib.colorbar.Colorbar at 0x7fa13ce22f10>"
      ]
     },
     "execution_count": 17,
     "metadata": {},
     "output_type": "execute_result"
    },
    {
     "data": {
      "image/png": "[encoded data removed]",
      "text/plain": [
       "<Figure size 432x288 with 2 Axes>"
      ]
     },
     "metadata": {
      "needs_background": "light"
     },
     "output_type": "display_data"
    }
   ],
   "source": [
    "plt.imshow(np.abs(ad_fft-fft), cmap='Blues'); plt.colorbar()"
   ]
  },
  {
   "cell_type": "code",
   "execution_count": null,
   "id": "82dd0ea8-daa8-45bd-8ccf-af4caf285ad4",
   "metadata": {},
   "outputs": [],
   "source": []
  }
 ],
 "metadata": {
  "kernelspec": {
   "display_name": "Python [conda env:.conda-cuda--11-1-1--pytorch--1-9-0]",
   "language": "python",
   "name": "conda-env-.conda-cuda--11-1-1--pytorch--1-9-0-py"
  },
  "language_info": {
   "codemirror_mode": {
    "name": "ipython",
    "version": 3
   },
   "file_extension": ".py",
   "mimetype": "text/x-python",
   "name": "python",
   "nbconvert_exporter": "python",
   "pygments_lexer": "ipython3",
   "version": "3.9.12"
  }
 },
 "nbformat": 4,
 "nbformat_minor": 5
}
