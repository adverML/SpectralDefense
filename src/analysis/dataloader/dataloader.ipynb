{
 "cells": [
  {
   "cell_type": "markdown",
   "id": "cbecaf7f-5a19-4969-a35b-a695565455d4",
   "metadata": {},
   "source": [
    "https://csinva.io/blog/misc/imagenet_quickstart/readme\n",
    "\n",
    "https://github.com/pytorch/vision/blob/d2c763e14efe57e4bf3ebf916ec243ce8ce3315c/torchvision/datasets/folder.py#L93-L94\n",
    "\n",
    "https://observablehq.com/@mbostock/imagenet-hierarchy\n",
    "\n",
    "https://github.com/Evolving-AI-Lab/ppgn/tree/master/misc"
   ]
  },
  {
   "cell_type": "code",
   "execution_count": 1,
   "id": "0d7a9e54-d809-41e2-b16a-4220e35e77f5",
   "metadata": {},
   "outputs": [],
   "source": [
    "import os\n",
    "import numpy as np\n",
    "import torch\n",
    "from torch.utils.data import Dataset, TensorDataset, DataLoader\n",
    "import torch.utils.data as data_utils\n",
    "import torchvision\n",
    "from torchvision import transforms\n",
    "from torchvision import datasets\n",
    "from PIL import Image\n",
    "import matplotlib.pyplot as plt"
   ]
  },
  {
   "cell_type": "code",
   "execution_count": 2,
   "id": "c7157349-a5f3-4b33-974e-d07b606b3c60",
   "metadata": {},
   "outputs": [],
   "source": [
    "root =     '/home/DATA/ITWM/ImageNetHierarchy'\n",
    "val_root = '/home/DATA/ITWM/ImageNetHierarchy/val'"
   ]
  },
  {
   "cell_type": "code",
   "execution_count": 3,
   "id": "b2abab65-431b-4051-9952-4def72966886",
   "metadata": {},
   "outputs": [],
   "source": [
    "map_clsloc_path = \"/home/DATA/ITWM/ImageNet/ILSVRC2012_devkit_t12/data/map_clsloc.txt\""
   ]
  },
  {
   "cell_type": "code",
   "execution_count": 4,
   "id": "8df81d8b-5a8f-4acf-9227-a3ad36074f96",
   "metadata": {},
   "outputs": [],
   "source": [
    "# trainset = datasets.ImageNet(\n",
    "#     os.path.join(root, 'train'), split='train',\n",
    "#     transform=self.train_transforms, \n",
    "#     target_transform=None, download=False)"
   ]
  },
  {
   "cell_type": "code",
   "execution_count": 5,
   "id": "31cfbff5-5f40-4f45-9aff-35a23120e427",
   "metadata": {},
   "outputs": [],
   "source": [
    "normalize = transforms.Normalize(mean=[0.485, 0.456, 0.406], std=[0.229, 0.224, 0.225])\n",
    "val_transforms = transforms.Compose([\n",
    "    transforms.Resize(256),\n",
    "    transforms.CenterCrop(224),\n",
    "    transforms.ToTensor(),\n",
    "    normalize,\n",
    "])"
   ]
  },
  {
   "cell_type": "code",
   "execution_count": 6,
   "id": "e39c9c23-6807-4a8c-828c-7302ea7bd2e5",
   "metadata": {},
   "outputs": [],
   "source": [
    "# valset = datasets.ImageNet( \n",
    "#     os.path.join(root, 'val'), split='val', \n",
    "#     transform=val_transforms, \n",
    "#     target_transform=None)"
   ]
  },
  {
   "cell_type": "code",
   "execution_count": 80,
   "id": "8cf9f327-cbb4-4ca6-a1c5-b1a0d6ab38a8",
   "metadata": {},
   "outputs": [],
   "source": [
    "class ImageNetDataSet(torchvision.datasets.ImageFolder):\n",
    "    def __init__(self, img_path, transform=None):\n",
    "        super(ImageNetDataSet, self).__init__(img_path, transform)\n",
    "        \n",
    "        self._read_labels()\n",
    "        self.samples = self._make_dataset(self.samples)\n",
    "        # self.classes, self.class_to_idx = self._my_classes()\n",
    "        # self.imgs = self.samples\n",
    "        self.targets = [s[1] for s in self.samples]\n",
    "\n",
    "    def _read_labels(self):\n",
    "        map_clsloc_path = \"/home/DATA/ITWM/ImageNet/ILSVRC2012_devkit_t12/data/map_clsloc.txt\"\n",
    "        dir_class_map = {}\n",
    "        class_dir_map = {}\n",
    "        id_class_map  = {}\n",
    "\n",
    "        with open(map_clsloc_path, \"rb\") as map_class_file:\n",
    "            rows = map_class_file.readlines()\n",
    "            for row in rows:\n",
    "                row = row.strip()\n",
    "                arr = row.decode(\"utf-8\").split(\" \")\n",
    "                class_dir_map[arr[0]] = arr[2]\n",
    "                id_class_map[int(arr[1])] = arr[2]\n",
    "                dir_class_map[arr[0]] = int(arr[1])\n",
    "        \n",
    "        self.class_dir_map = class_dir_map\n",
    "        self.id_class_map  = id_class_map\n",
    "        \n",
    "        with open('/home/DATA/ITWM/ImageNet/ILSVRC2012_devkit_t12/data/imagenet1000_clsidx_to_labels.txt') as f:\n",
    "            data = f.read()\n",
    "        import ast\n",
    "        d = ast.literal_eval(data)\n",
    "        \n",
    "        key_list = list(d.keys())\n",
    "        val_list = list(d.values())\n",
    "        \n",
    "        for key, value in class_dir_class_id.items():\n",
    "            for val in val_list:\n",
    "                val_split = val.split(\", \")\n",
    "                val_split[0] = val_split[0].replace(\" \", \"_\")\n",
    "                if value in val_split:\n",
    "                    print( key,  key_list[ val_list.index(val) ], val )\n",
    "\n",
    "                    class_dir_class_id[key] = key_list[ val_list.index(val) ]\n",
    "\n",
    "\n",
    "        self.dir_class_map = class_dir_class_id\n",
    "        \n",
    "        \n",
    "    def _my_classes(self):\n",
    "        self.dir_class_map \n",
    "        class_to_idx = {classes[i]: i for i in range(len(classes))}\n",
    "\n",
    "        return classes, class_to_idx\n",
    "\n",
    "    \n",
    "    def _make_dataset(self, samples):\n",
    "        n = len(samples)\n",
    "        ds = [None] * n\n",
    "        print(\"dfasfa\")\n",
    "        for i, (img, cls) in enumerate(samples):            \n",
    "            ds[i] = (img, self._custom_class(cls))\n",
    "\n",
    "        return ds\n",
    "    \n",
    "    \n",
    "    def _custom_class(self, cls):\n",
    "        return self.dir_class_map[self.classes[cls]]\n",
    "\n",
    "    \n",
    "    def pil_loader(self, path):\n",
    "        # open path as file to avoid ResourceWarning (https://github.com/python-pillow/Pillow/issues/835)\n",
    "        with open(path, 'rb') as f:\n",
    "            img = Image.open(f)\n",
    "            return img.convert('RGB')\n",
    "    \n",
    "\n",
    "    def __getitem__(self, index):\n",
    "        \"\"\"\n",
    "        Args:\n",
    "            index (int): Index\n",
    "        Returns:\n",
    "            tuple: (sample, target) where target is class_index of the target class.\n",
    "        \"\"\"\n",
    "        path, target = self.samples[index]\n",
    "        sample = self.pil_loader(path)\n",
    "        if self.transform is not None:\n",
    "            sample = self.transform(sample)\n",
    "        if self.target_transform is not None:\n",
    "            target = self.target_transform(target)\n",
    "\n",
    "        return sample, target"
   ]
  },
  {
   "cell_type": "code",
   "execution_count": 81,
   "id": "424bb65e-865c-4f6f-a76b-8f44c834c847",
   "metadata": {},
   "outputs": [],
   "source": [
    "transform = transforms.Compose([\n",
    "    # you can add other transformations in this list\n",
    "    transforms.ToTensor()\n",
    "])"
   ]
  },
  {
   "cell_type": "code",
   "execution_count": 82,
   "id": "d273c589-4f33-4e98-8789-c41b3a9ba738",
   "metadata": {},
   "outputs": [
    {
     "name": "stdout",
     "output_type": "stream",
     "text": [
      "dfasfa\n"
     ]
    }
   ],
   "source": [
    "dataset = ImageNetDataSet(val_root, val_transforms)\n",
    "# dataset.samples"
   ]
  },
  {
   "cell_type": "code",
   "execution_count": 84,
   "id": "8670d2d3-34f1-4f0f-aa22-b982b68df65e",
   "metadata": {},
   "outputs": [],
   "source": [
    "# dataset.dir_class_map"
   ]
  },
  {
   "cell_type": "code",
   "execution_count": 42,
   "id": "fe51c932-ab31-404b-986e-e0f1e9bc43e6",
   "metadata": {},
   "outputs": [
    {
     "data": {
      "text/plain": [
       "2550"
      ]
     },
     "execution_count": 42,
     "metadata": {},
     "output_type": "execute_result"
    }
   ],
   "source": [
    "len(dataset)"
   ]
  },
  {
   "cell_type": "code",
   "execution_count": 85,
   "id": "49fb9c1a-0c64-472a-b04a-8cfecb7b6a3b",
   "metadata": {},
   "outputs": [],
   "source": [
    "dataloader = DataLoader(dataset, batch_size=1, shuffle=True, num_workers=2)"
   ]
  },
  {
   "cell_type": "code",
   "execution_count": 86,
   "id": "e83ee883-6c36-4d17-901d-061e21511125",
   "metadata": {},
   "outputs": [],
   "source": [
    "data_iter = iter(dataloader)\n"
   ]
  },
  {
   "cell_type": "code",
   "execution_count": 87,
   "id": "11618a95-212a-40ab-83c1-6477b598d554",
   "metadata": {},
   "outputs": [
    {
     "data": {
      "text/plain": [
       "torch.Size([1, 3, 224, 224])"
      ]
     },
     "execution_count": 87,
     "metadata": {},
     "output_type": "execute_result"
    }
   ],
   "source": [
    "images, labels = data_iter.next()\n",
    "images.shape"
   ]
  },
  {
   "cell_type": "code",
   "execution_count": 88,
   "id": "b26c33c1-77f2-4347-ae36-fe7ad4d73f67",
   "metadata": {},
   "outputs": [
    {
     "data": {
      "text/plain": [
       "tensor([755])"
      ]
     },
     "execution_count": 88,
     "metadata": {},
     "output_type": "execute_result"
    }
   ],
   "source": [
    "labels"
   ]
  },
  {
   "cell_type": "code",
   "execution_count": 89,
   "id": "fd53e693-b9e6-47cc-b28f-7162b8268c6d",
   "metadata": {},
   "outputs": [],
   "source": [
    "image = images.numpy()[0].transpose((1,2,0))"
   ]
  },
  {
   "cell_type": "code",
   "execution_count": 90,
   "id": "c59111f1-b213-4863-a5c6-73c12a1af7c3",
   "metadata": {},
   "outputs": [
    {
     "name": "stderr",
     "output_type": "stream",
     "text": [
      "Clipping input data to the valid range for imshow with RGB data ([0..1] for floats or [0..255] for integers).\n"
     ]
    },
    {
     "data": {
      "text/plain": [
       "<matplotlib.image.AxesImage at 0x7f951012c1f0>"
      ]
     },
     "execution_count": 90,
     "metadata": {},
     "output_type": "execute_result"
    },
    {
     "data": {
      "image/png": "[encoded data removed]",
      "text/plain": [
       "<Figure size 432x288 with 1 Axes>"
      ]
     },
     "metadata": {
      "needs_background": "light"
     },
     "output_type": "display_data"
    }
   ],
   "source": [
    "plt.figure()\n",
    "plt.imshow(image)"
   ]
  },
  {
   "cell_type": "code",
   "execution_count": 91,
   "id": "5f7bcb25-0f6e-4186-b36c-311d86dc4d5e",
   "metadata": {},
   "outputs": [],
   "source": [
    "import torchvision.models as models\n",
    "model = models.wide_resnet50_2(pretrained=True)"
   ]
  },
  {
   "cell_type": "code",
   "execution_count": 92,
   "id": "00b3b28b-c6e1-4425-b0a5-c163430a1847",
   "metadata": {},
   "outputs": [],
   "source": [
    "class_dir_class_id = dataset.class_dir_map"
   ]
  },
  {
   "cell_type": "code",
   "execution_count": 54,
   "id": "6471a0db-b31e-4256-80d8-d36a6c7b6738",
   "metadata": {},
   "outputs": [],
   "source": [
    "with open('imagenet1000_clsidx_to_labels.txt') as f:\n",
    "    data = f.read()\n",
    "import ast\n",
    "d = ast.literal_eval(data)"
   ]
  },
  {
   "cell_type": "code",
   "execution_count": 55,
   "id": "4571888f-4bef-4a49-9768-461958634c19",
   "metadata": {},
   "outputs": [],
   "source": [
    "key_list = list(d.keys())\n",
    "val_list = list(d.values())"
   ]
  },
  {
   "cell_type": "code",
   "execution_count": 56,
   "id": "39e639a6-cfaf-40f3-971c-0f11f4b3f43a",
   "metadata": {},
   "outputs": [],
   "source": [
    "position = val_list.index(\"hammerhead, hammerhead shark\")"
   ]
  },
  {
   "cell_type": "code",
   "execution_count": 57,
   "id": "6b3a5ef1-8430-425b-8d35-476154375ee4",
   "metadata": {},
   "outputs": [
    {
     "name": "stdout",
     "output_type": "stream",
     "text": [
      "4\n"
     ]
    }
   ],
   "source": [
    "print(key_list[position])"
   ]
  },
  {
   "cell_type": "code",
   "execution_count": 67,
   "id": "0db9b815-ada5-469f-b22c-86635045fad5",
   "metadata": {},
   "outputs": [
    {
     "data": {
      "text/plain": [
       "['goldfish', 'Carassius auratus']"
      ]
     },
     "execution_count": 67,
     "metadata": {},
     "output_type": "execute_result"
    }
   ],
   "source": [
    "val = val_list[1].split(\", \")\n",
    "val"
   ]
  },
  {
   "cell_type": "code",
   "execution_count": 74,
   "id": "0c781779-5a2c-4a04-8236-0ba28e48b4ca",
   "metadata": {},
   "outputs": [
    {
     "data": {
      "text/plain": [
       "'goldfish'"
      ]
     },
     "execution_count": 74,
     "metadata": {},
     "output_type": "execute_result"
    }
   ],
   "source": [
    "val[0].replace(\" \", \"_\")"
   ]
  },
  {
   "cell_type": "code",
   "execution_count": 65,
   "id": "921e184c-05df-4437-a057-9a6cab77e868",
   "metadata": {},
   "outputs": [],
   "source": [
    "if 'ten' in val:\n",
    "    print(val)"
   ]
  },
  {
   "cell_type": "code",
   "execution_count": 93,
   "id": "805c8cef-a5df-4d36-8f07-aaa6d38661eb",
   "metadata": {},
   "outputs": [],
   "source": [
    "# for key, value in class_dir_class_id.items():\n",
    "#     for val in val_list:\n",
    "#         val_split = val.split(\", \")\n",
    "#         val_split[0] = val_split[0].replace(\" \", \"_\")\n",
    "#         if value in val_split:\n",
    "#             print( key,  key_list[ val_list.index(val) ], val )\n",
    "            \n",
    "#             class_dir_class_id[key] = key_list[ val_list.index(val) ]"
   ]
  },
  {
   "cell_type": "code",
   "execution_count": null,
   "id": "a0786440-e840-4db7-8c05-ff6203806ab0",
   "metadata": {},
   "outputs": [],
   "source": []
  },
  {
   "cell_type": "code",
   "execution_count": null,
   "id": "59a6b7a2-0975-4ae1-a8e3-c836d91385cb",
   "metadata": {},
   "outputs": [],
   "source": []
  },
  {
   "cell_type": "code",
   "execution_count": null,
   "id": "d6d93a59-8c40-4b0e-9d37-5bba44d168dc",
   "metadata": {},
   "outputs": [],
   "source": []
  }
 ],
 "metadata": {
  "kernelspec": {
   "display_name": "Python [conda env:.conda-cuda--11-1-1--pytorch--1-9-0]",
   "language": "python",
   "name": "conda-env-.conda-cuda--11-1-1--pytorch--1-9-0-py"
  },
  "language_info": {
   "codemirror_mode": {
    "name": "ipython",
    "version": 3
   },
   "file_extension": ".py",
   "mimetype": "text/x-python",
   "name": "python",
   "nbconvert_exporter": "python",
   "pygments_lexer": "ipython3",
   "version": "3.9.5"
  }
 },
 "nbformat": 4,
 "nbformat_minor": 5
}
