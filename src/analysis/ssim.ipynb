{
 "cells": [
  {
   "cell_type": "markdown",
   "id": "ed35da17-f39d-4044-8977-47132d98e7c5",
   "metadata": {
    "tags": []
   },
   "source": [
    "# SSIM \n",
    "\n",
    "https://arxiv.org/pdf/2006.13846.pdf\n",
    "\n",
    "https://stackoverflow.com/questions/53933528/ssim-for-3d-image-volume"
   ]
  },
  {
   "cell_type": "code",
   "execution_count": 28,
   "id": "7902352f-6a2c-4427-93b9-c34faf0a0db8",
   "metadata": {},
   "outputs": [],
   "source": [
    "import numpy as np\n",
    "from skimage.metrics import structural_similarity as ssim\n",
    "from skimage.metrics import mean_squared_error\n",
    "import torch\n",
    "\n",
    "import matplotlib.pyplot as plt"
   ]
  },
  {
   "cell_type": "code",
   "execution_count": 11,
   "id": "8beca160-2eed-4343-bdfe-fbd94e16f2b5",
   "metadata": {},
   "outputs": [],
   "source": [
    "cw_pth = \"/home/lorenzp/adversialml/src/data/attacks/run_1/cif10/wrn_28_10_10/cw/images\"\n",
    "cw_adv_pth = \"/home/lorenzp/adversialml/src/data/attacks/run_1/cif10/wrn_28_10_10/cw/images_adv\"\n",
    "cw_nor = torch.load(cw_pth)\n",
    "cw_adv = torch.load(cw_adv_pth)"
   ]
  },
  {
   "cell_type": "code",
   "execution_count": null,
   "id": "5f96320f-b34b-4f57-9cd0-4801b948fcdc",
   "metadata": {},
   "outputs": [],
   "source": []
  },
  {
   "cell_type": "code",
   "execution_count": 23,
   "id": "9bc6e5d1-257b-4600-9e9a-b191db1d84cc",
   "metadata": {},
   "outputs": [],
   "source": [
    "cw_nor1 = cw_nor[0].cpu().numpy().transpose((1,2,0))\n",
    "cw_adv1 = cw_adv[0].cpu().numpy().transpose((1,2,0))"
   ]
  },
  {
   "cell_type": "code",
   "execution_count": 24,
   "id": "53878aca-883f-4c45-86c2-52b53de98407",
   "metadata": {},
   "outputs": [
    {
     "data": {
      "text/plain": [
       "<matplotlib.image.AxesImage at 0x7f71305e5a60>"
      ]
     },
     "execution_count": 24,
     "metadata": {},
     "output_type": "execute_result"
    },
    {
     "data": {
      "image/png": "[encoded data removed]",
      "text/plain": [
       "<Figure size 360x216 with 2 Axes>"
      ]
     },
     "metadata": {
      "needs_background": "light"
     },
     "output_type": "display_data"
    }
   ],
   "source": [
    "fig, axes = plt.subplots(nrows=1, ncols=2, figsize=(5, 3))\n",
    "axes[0].imshow(cw_nor1)\n",
    "axes[1].imshow(cw_nor1)"
   ]
  },
  {
   "cell_type": "code",
   "execution_count": 27,
   "id": "9ccba20b-f2e5-4840-88b6-7cc56b6618ab",
   "metadata": {},
   "outputs": [
    {
     "data": {
      "text/plain": [
       "0.9996483264276103"
      ]
     },
     "execution_count": 27,
     "metadata": {},
     "output_type": "execute_result"
    }
   ],
   "source": [
    "ssim(cw_nor1, cw_adv1, multichannel=True)"
   ]
  },
  {
   "cell_type": "code",
   "execution_count": 30,
   "id": "bf0075b1-60c9-4233-a1f9-40ce48d2ac0c",
   "metadata": {},
   "outputs": [
    {
     "data": {
      "text/plain": [
       "5.965913068936333e-06"
      ]
     },
     "execution_count": 30,
     "metadata": {},
     "output_type": "execute_result"
    }
   ],
   "source": [
    "mean_squared_error(cw_nor1, cw_adv1)"
   ]
  },
  {
   "cell_type": "code",
   "execution_count": null,
   "id": "caec6edf-6558-4bc9-a38d-10036930e670",
   "metadata": {},
   "outputs": [],
   "source": []
  }
 ],
 "metadata": {
  "kernelspec": {
   "display_name": "Python [conda env:.conda-cuda--11-1-1--pytorch--1-9-0]",
   "language": "python",
   "name": "conda-env-.conda-cuda--11-1-1--pytorch--1-9-0-py"
  },
  "language_info": {
   "codemirror_mode": {
    "name": "ipython",
    "version": 3
   },
   "file_extension": ".py",
   "mimetype": "text/x-python",
   "name": "python",
   "nbconvert_exporter": "python",
   "pygments_lexer": "ipython3",
   "version": "3.9.5"
  }
 },
 "nbformat": 4,
 "nbformat_minor": 5
}
