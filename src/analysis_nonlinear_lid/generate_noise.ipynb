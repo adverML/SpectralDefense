{
 "cells": [
  {
   "cell_type": "code",
   "execution_count": 14,
   "id": "bdfc93e5-437f-44a7-9443-cc7150b71d3c",
   "metadata": {},
   "outputs": [],
   "source": [
    "import numpy as np\n",
    "import torch\n",
    "import matplotlib.pyplot as plt"
   ]
  },
  {
   "cell_type": "code",
   "execution_count": 15,
   "id": "0f4fcc98-d7a2-489b-838a-2341b81a6284",
   "metadata": {},
   "outputs": [],
   "source": [
    "CLIP_MIN = 0.0\n",
    "CLIP_MAX = 1.0"
   ]
  },
  {
   "cell_type": "code",
   "execution_count": 16,
   "id": "ff0afe44-30d3-41cb-b6f4-7ddac0a888bd",
   "metadata": {},
   "outputs": [],
   "source": [
    "def load_data(run='1', net='cif10/wrn_28_10_10'):\n",
    "    my_path      = '/home/lorenzp/adversialml/src'\n",
    "\n",
    "    originals    = torch.load(my_path + '/data/attacks/run_{}/'.format(run) + net + '/bim/images')\n",
    "\n",
    "    gauss        = torch.load(my_path +  '/data/attacks/run_{}/'.format(run) + net + '/gauss/images_adv')\n",
    "    fgsms        = torch.load(my_path +  '/data/attacks/run_{}/'.format(run) + net + '/fgsm/images_adv')\n",
    "    bims         = torch.load(my_path +  '/data/attacks/run_{}/'.format(run) + net + '/bim/images_adv')\n",
    "    pgds         = torch.load(my_path +  '/data/attacks/run_{}/'.format(run) + net + '/pgd/images_adv')\n",
    "    aa           = torch.load(my_path +  '/data/attacks/run_{}/'.format(run) + net + '/std/8_255/images_adv')\n",
    "    deepfools    = torch.load(my_path +  '/data/attacks/run_{}/'.format(run) + net + '/df/images_adv')\n",
    "    cws          = torch.load(my_path +  '/data/attacks/run_{}/'.format(run) + net + '/cw/images_adv')\n",
    "\n",
    "    o_gauss      = torch.load(my_path +  '/data/attacks/run_{}/'.format(run) + net + '/gauss/images')\n",
    "    o_fgsms      = torch.load(my_path +  '/data/attacks/run_{}/'.format(run) + net + '/fgsm/images')\n",
    "    o_bims       = torch.load(my_path +  '/data/attacks/run_{}/'.format(run) + net + '/bim/images')\n",
    "    o_pgds       = torch.load(my_path +  '/data/attacks/run_{}/'.format(run) + net + '/pgd/images')\n",
    "    o_aa         = torch.load(my_path +  '/data/attacks/run_{}/'.format(run) + net + '/std/8_255/images')\n",
    "    o_deepfools  = torch.load(my_path +  '/data/attacks/run_{}/'.format(run) + net + '/df/images')\n",
    "    o_cws        = torch.load(my_path +  '/data/attacks/run_{}/'.format(run) + net + '/cw/images')\n",
    "\n",
    "    tmp_attacks = [originals, gauss,       fgsms,   bims,   pgds,   aa,   deepfools,  cws]\n",
    "    tmp_origs   = [originals, o_gauss,   o_fgsms, o_bims, o_pgds, o_aa, o_deepfools, o_cws]\n",
    "    tmp_attack_name = ['normal', 'Gaussian', 'FGSM', 'BIM', ' PGD', 'AA',  'Deepfool', 'C&W']\n",
    "\n",
    "    return tmp_attacks, tmp_origs, tmp_attack_name"
   ]
  },
  {
   "cell_type": "code",
   "execution_count": 17,
   "id": "49a2b87a-b382-4223-a9c7-ebcec179047c",
   "metadata": {},
   "outputs": [],
   "source": [
    "attacks, origs, attack_name = load_data(run=1, net='cif10/wrn_28_10_10')       "
   ]
  },
  {
   "cell_type": "code",
   "execution_count": 18,
   "id": "b3d2ebf8-abfa-4e46-a759-16c774f541f7",
   "metadata": {},
   "outputs": [],
   "source": [
    "def get_noisy_samples(X_test, dataset='cif10', stddev=8/255):\n",
    "    # print(\"stddev\", stddev)\n",
    "    X_test_noisy = np.minimum(\n",
    "        np.maximum(\n",
    "            X_test + np.random.normal(loc=0, scale=stddev, size=X_test.shape).astype('f'),\n",
    "            CLIP_MIN\n",
    "        ),\n",
    "        CLIP_MAX\n",
    "    )\n",
    "\n",
    "    return X_test_noisy"
   ]
  },
  {
   "cell_type": "code",
   "execution_count": 19,
   "id": "33be6847-0654-4d53-8ab0-6c556a03f81a",
   "metadata": {},
   "outputs": [],
   "source": [
    "def find_dev(attacks, origs, attack_name, stddeviations):\n",
    "    \n",
    "    for att in range(len(attacks)):\n",
    "        print(\"================================================\")\n",
    "        print(\"attack: \", attack_name[att])\n",
    "        min_dist_err = 100000000\n",
    "        min_stddev = 0\n",
    "        per_sample_min_stddev = [] \n",
    "\n",
    "        i_att   = attacks[att]\n",
    "        i_origs = origs[att]\n",
    "        \n",
    "        origs_stddev = []\n",
    "        for i in range(20):\n",
    "            i_att_tmp = i_att[i].cpu()\n",
    "            i_origs_tmp = i_origs[i].cpu()\n",
    "            \n",
    "            o_dist_err = torch.dist( i_origs_tmp, i_att_tmp , p=2 )\n",
    "            # o_dist_err = np.linalg.norm(i_origs_tmp - i_att_tmp, 1)\n",
    "            \n",
    "            origs_stddev.append(o_dist_err)\n",
    "            print(\"orig:     \", o_dist_err)\n",
    "            for it_stddev in stddeviations:\n",
    "                \n",
    "                noisy = torch.tensor( get_noisy_samples( i_origs_tmp.numpy(), stddev=it_stddev) )\n",
    "                dist_err = torch.dist( i_origs_tmp, noisy , p=2)\n",
    "                # dist_err = np.linalg.norm( i_origs_tmp - noisy )\n",
    "                \n",
    "                print(\"noisy     \", dist_err)\n",
    "                \n",
    "                # if np.abs( dist_err - o_dist_err ) <= min_dist_err:\n",
    "                #     print(\"noisy\", dist_err)\n",
    "                #     per_sample_min_stddev.append( stddev )\n",
    "        \n",
    "        print(\"average l2 dist: \", np.mean(origs_stddev))\n",
    "        \n",
    "        # print(\"per_sample_min_stddev: \", per_sample_min_stddev)\n",
    "        \n",
    "        \n",
    "\n",
    "        print(\"--------------\")\n"
   ]
  },
  {
   "cell_type": "code",
   "execution_count": 20,
   "id": "786dc3e7-6ee6-4735-85e6-09949591219c",
   "metadata": {},
   "outputs": [],
   "source": [
    "# std_devs = [  0.011/255., 0.1/255., 0.2/255., 0.5 / 255., 1 / 255., 2 / 255., 3 / 255., 4 / 255., 8 / 255.]\n",
    "# std_devs = [  0.001/255., 0.01/255.,  0.1/255.,  0.2/255.]\n",
    "# std_devs = [  0.000001, 0.00001, 0.0001, 0.001]\n",
    "# std_devs = [ 0.015686, 0.0015686, 0.15686 ]\n",
    "\n",
    "# STD = np.linspace(0.0001, 0.1, 1000)\n",
    "# STD = [0.002080]\n",
    "\n",
    "STD = [0.1172]"
   ]
  },
  {
   "cell_type": "code",
   "execution_count": 21,
   "id": "f6c37c42-7194-416a-884c-01f93fe25901",
   "metadata": {},
   "outputs": [
    {
     "data": {
      "text/plain": [
       "['normal', 'Gaussian', 'FGSM', 'BIM', ' PGD', 'AA', 'Deepfool', 'C&W']"
      ]
     },
     "execution_count": 21,
     "metadata": {},
     "output_type": "execute_result"
    }
   ],
   "source": [
    "attack_name"
   ]
  },
  {
   "cell_type": "code",
   "execution_count": 22,
   "id": "bdb23d60-0290-43b0-ab57-890eb6cbe790",
   "metadata": {},
   "outputs": [
    {
     "name": "stdout",
     "output_type": "stream",
     "text": [
      "FGSM\n"
     ]
    },
    {
     "data": {
      "text/plain": [
       "torch.Size([3, 32, 32])"
      ]
     },
     "execution_count": 22,
     "metadata": {},
     "output_type": "execute_result"
    }
   ],
   "source": [
    "print(attack_name[2])\n",
    "\n",
    "i_att   = attacks[2]\n",
    "i_origs = origs[2]\n",
    "\n",
    "i_att_tmp = i_att[0].cpu()\n",
    "i_origs_tmp = i_origs[0].cpu()\n",
    "\n",
    "i_origs_tmp.shape"
   ]
  },
  {
   "cell_type": "code",
   "execution_count": 23,
   "id": "4f76a837-5a7b-4058-ae68-b137b92f6e61",
   "metadata": {},
   "outputs": [
    {
     "data": {
      "text/plain": [
       "tensor(1.7357)"
      ]
     },
     "execution_count": 23,
     "metadata": {},
     "output_type": "execute_result"
    }
   ],
   "source": [
    "o_dist_err = torch.dist( i_origs_tmp, i_att_tmp , p=2 )\n",
    "o_dist_err"
   ]
  },
  {
   "cell_type": "code",
   "execution_count": 24,
   "id": "511ccd25-706e-4786-9287-d2091a311e6a",
   "metadata": {},
   "outputs": [
    {
     "data": {
      "text/plain": [
       "tensor(1.6252)"
      ]
     },
     "execution_count": 24,
     "metadata": {},
     "output_type": "execute_result"
    }
   ],
   "source": [
    "noisy = torch.tensor( get_noisy_samples( i_origs_tmp.numpy(), stddev=0.02915877943) )\n",
    "dist_err = torch.dist( i_origs_tmp, noisy , p=2)\n",
    "dist_err"
   ]
  },
  {
   "cell_type": "code",
   "execution_count": 25,
   "id": "d0d11848-999b-45b4-b1c0-ceaa73b56243",
   "metadata": {},
   "outputs": [],
   "source": [
    "iter_sample = 1"
   ]
  },
  {
   "cell_type": "code",
   "execution_count": 26,
   "id": "6ef53bad-1916-49c4-9c95-ed27d7b14e55",
   "metadata": {},
   "outputs": [
    {
     "name": "stdout",
     "output_type": "stream",
     "text": [
      "C&W\n",
      "mean std:  0.0020574536\n"
     ]
    }
   ],
   "source": [
    "NR_ATT = 7\n",
    "\n",
    "print(attack_name[NR_ATT])\n",
    "\n",
    "i_att   = attacks[NR_ATT]\n",
    "i_origs = origs[NR_ATT]\n",
    "\n",
    "i_att_tmp = i_att[0].cpu()\n",
    "i_origs_tmp = i_origs[0].cpu()\n",
    "\n",
    "lp=1\n",
    "s = (32**2 *3)\n",
    "std_deviations = []\n",
    "\n",
    "for iter_sample in range(1000):\n",
    "    i_att_tmp = i_att[iter_sample].cpu()\n",
    "    i_origs_tmp = i_origs[iter_sample].cpu()\n",
    "\n",
    "    o_dist_err = torch.dist( i_origs_tmp, i_att_tmp , p=lp )\n",
    "    # print(\"o_dist_err: \", o_dist_err)\n",
    "\n",
    "    if lp == 1:\n",
    "        std = o_dist_err /  s * np.sqrt(np.pi/2)\n",
    "    elif lp == 2:\n",
    "        std = np.sqrt(o_dist_err /  s) * np.sqrt(np.pi/2)\n",
    "        \n",
    "    std_deviations.append(std)\n",
    "    # print(\"standard: \", std)\n",
    "\n",
    "    noisy = torch.tensor( get_noisy_samples( i_origs_tmp.numpy(), stddev=std) )\n",
    "    dist_err = torch.dist( i_origs_tmp, noisy , p=lp)\n",
    "\n",
    "    # print(\"dist_err:   \", dist_err)\n",
    "\n",
    "print(\"mean std: \", np.mean(std_deviations))"
   ]
  },
  {
   "cell_type": "code",
   "execution_count": 27,
   "id": "d4075284-ade7-4bf2-b47d-2a0690a1234a",
   "metadata": {
    "tags": []
   },
   "outputs": [
    {
     "name": "stdout",
     "output_type": "stream",
     "text": [
      "================================================\n",
      "attack:  normal\n",
      "orig:      tensor(0.)\n"
     ]
    },
    {
     "ename": "NameError",
     "evalue": "name 'stddeviations' is not defined",
     "output_type": "error",
     "traceback": [
      "\u001b[0;31m---------------------------------------------------------------------------\u001b[0m",
      "\u001b[0;31mNameError\u001b[0m                                 Traceback (most recent call last)",
      "Input \u001b[0;32mIn [27]\u001b[0m, in \u001b[0;36m<cell line: 1>\u001b[0;34m()\u001b[0m\n\u001b[1;32m     19\u001b[0m origs_stddev\u001b[38;5;241m.\u001b[39mappend(o_dist_err)\n\u001b[1;32m     20\u001b[0m \u001b[38;5;28mprint\u001b[39m(\u001b[38;5;124m\"\u001b[39m\u001b[38;5;124morig:     \u001b[39m\u001b[38;5;124m\"\u001b[39m, o_dist_err)\n\u001b[0;32m---> 21\u001b[0m \u001b[38;5;28;01mfor\u001b[39;00m it_stddev \u001b[38;5;129;01min\u001b[39;00m \u001b[43mstddeviations\u001b[49m:\n\u001b[1;32m     23\u001b[0m     noisy \u001b[38;5;241m=\u001b[39m torch\u001b[38;5;241m.\u001b[39mtensor( get_noisy_samples( i_origs_tmp\u001b[38;5;241m.\u001b[39mnumpy(), stddev\u001b[38;5;241m=\u001b[39mit_stddev) )\n\u001b[1;32m     24\u001b[0m     dist_err \u001b[38;5;241m=\u001b[39m torch\u001b[38;5;241m.\u001b[39mdist( i_origs_tmp, noisy , p\u001b[38;5;241m=\u001b[39m\u001b[38;5;241m2\u001b[39m)\n",
      "\u001b[0;31mNameError\u001b[0m: name 'stddeviations' is not defined"
     ]
    }
   ],
   "source": [
    "for att in range(len(attacks)):\n",
    "    print(\"================================================\")\n",
    "    print(\"attack: \", attack_name[att])\n",
    "    min_dist_err = 100000000\n",
    "    min_stddev = 0\n",
    "    per_sample_min_stddev = [] \n",
    "\n",
    "    i_att   = attacks[att]\n",
    "    i_origs = origs[att]\n",
    "\n",
    "    origs_stddev = []\n",
    "    for i in range(20):\n",
    "        i_att_tmp = i_att[i].cpu()\n",
    "        i_origs_tmp = i_origs[i].cpu()\n",
    "\n",
    "        o_dist_err = torch.dist( i_origs_tmp, i_att_tmp , p=2 )\n",
    "        # o_dist_err = np.linalg.norm(i_origs_tmp - i_att_tmp, 1)\n",
    "\n",
    "        origs_stddev.append(o_dist_err)\n",
    "        print(\"orig:     \", o_dist_err)\n",
    "        for it_stddev in stddeviations:\n",
    "\n",
    "            noisy = torch.tensor( get_noisy_samples( i_origs_tmp.numpy(), stddev=it_stddev) )\n",
    "            dist_err = torch.dist( i_origs_tmp, noisy , p=2)\n",
    "            # dist_err = np.linalg.norm( i_origs_tmp - noisy )\n",
    "\n",
    "            print(\"noisy     \", dist_err)\n",
    "\n",
    "    print(\"average l2 dist: \", np.mean(origs_stddev))\n",
    "        "
   ]
  },
  {
   "cell_type": "code",
   "execution_count": null,
   "id": "5c9c9c53-cfd1-4d19-8181-03312e372abc",
   "metadata": {
    "tags": []
   },
   "outputs": [],
   "source": [
    "# it = 2\n",
    "# find_dev([attacks[it]], origs, [attack_name[it]], STD)\n",
    "\n",
    "\n",
    "find_dev(attacks, origs, attack_name, STD)"
   ]
  },
  {
   "cell_type": "code",
   "execution_count": null,
   "id": "fc8fac21-ab2e-4e70-ac61-61e0f800f4c3",
   "metadata": {},
   "outputs": [],
   "source": [
    "attacks, origs, attack_name = load_data(run=1, net='cif100/wrn_28_10_100')\n",
    "find_dev(attacks, origs, attack_name, STD)"
   ]
  },
  {
   "cell_type": "code",
   "execution_count": null,
   "id": "24dc648c-b36a-4218-9b44-f3123ca548f9",
   "metadata": {},
   "outputs": [],
   "source": [
    "attacks, origs, attack_name = load_data(run=1, net='cif10vgg/vgg_16_0_10')\n",
    "find_dev(attacks, origs, attack_name)"
   ]
  },
  {
   "cell_type": "code",
   "execution_count": null,
   "id": "cbbc465b-56f4-4c3b-b2f4-9d25dec829a2",
   "metadata": {},
   "outputs": [],
   "source": [
    "attacks, origs, attack_name = load_data(run=1, net='cif100vgg/vgg_16_0_100')\n",
    "find_dev(attacks, origs, attack_name, STD)"
   ]
  },
  {
   "cell_type": "code",
   "execution_count": null,
   "id": "160c7d58-a15b-4229-a682-e4d520b28bd2",
   "metadata": {},
   "outputs": [],
   "source": [
    "attacks, origs, attack_name = load_data(run=1, net='imagenet/wrn_50_2')\n",
    "find_dev(attacks, origs, attack_name, STD)"
   ]
  },
  {
   "cell_type": "code",
   "execution_count": null,
   "id": "3bab39ce-1207-4b8b-9424-5a85b3c5efc2",
   "metadata": {},
   "outputs": [],
   "source": []
  }
 ],
 "metadata": {
  "kernelspec": {
   "display_name": "Python [conda env:.conda-cuda--11-1-1--pytorch--1-9-0]",
   "language": "python",
   "name": "conda-env-.conda-cuda--11-1-1--pytorch--1-9-0-py"
  },
  "language_info": {
   "codemirror_mode": {
    "name": "ipython",
    "version": 3
   },
   "file_extension": ".py",
   "mimetype": "text/x-python",
   "name": "python",
   "nbconvert_exporter": "python",
   "pygments_lexer": "ipython3",
   "version": "3.9.12"
  }
 },
 "nbformat": 4,
 "nbformat_minor": 5
}
