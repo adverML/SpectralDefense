{
 "cells": [
  {
   "cell_type": "code",
   "execution_count": null,
   "id": "a674d7a0-8853-4e4c-bd3e-a5e75504b2af",
   "metadata": {},
   "outputs": [],
   "source": [
    "import numpy as np\n",
    "import torch\n",
    "import matplotlib.pyplot as plt\n",
    "import pandas as pd"
   ]
  },
  {
   "cell_type": "code",
   "execution_count": null,
   "id": "7a4d699d-705c-4740-90b5-56c0a1e5fc09",
   "metadata": {},
   "outputs": [],
   "source": [
    "clf = torch.load(\"./../data/detection/run_1/cif10/wrn_28_10_10/fgsm/LID/k_5/layer_8/RF/RF.clf\")"
   ]
  },
  {
   "cell_type": "code",
   "execution_count": null,
   "id": "6ce5ef1d-ba5d-4d78-a299-9a094c3410e4",
   "metadata": {},
   "outputs": [],
   "source": [
    "print(clf)"
   ]
  },
  {
   "cell_type": "code",
   "execution_count": null,
   "id": "8629934d-8d94-4c0a-b9a6-5c034f46b15c",
   "metadata": {},
   "outputs": [],
   "source": [
    "importance = clf.feature_importances_\n",
    "importance"
   ]
  },
  {
   "cell_type": "code",
   "execution_count": null,
   "id": "3139daf8-c4ff-44f1-a616-e20d74ab4df5",
   "metadata": {},
   "outputs": [],
   "source": [
    "ATTACKS = ['gauss', 'fgsm', 'bim', 'pgd', 'df', 'cw']\n",
    "ATTACKS = ['fgsm', 'bim', 'pgd', 'df', 'cw']\n",
    "\n",
    "\n",
    "for att in ATTACKS:\n",
    "    print( att, \"===================================\")\n",
    "    for i in range(12):\n",
    "        clf = torch.load(\"./../data/detection/run_1/cif10/wrn_28_10_10/\" + att + \"/LID/k_5/layer_{}/RF/RF.clf\".format(i))\n",
    "        print(\"layer\", i, clf.feature_importances_)"
   ]
  },
  {
   "cell_type": "code",
   "execution_count": null,
   "id": "eb1fbbc9-ed66-4c9f-93a0-cae226f4b9c0",
   "metadata": {},
   "outputs": [],
   "source": [
    "ATTACKS = ['gauss', 'fgsm', 'bim', 'std/8_255', 'pgd', 'df', 'cw']\n",
    "\n",
    "feature_importance = {}\n",
    "\n",
    "for att in ATTACKS:\n",
    "    print( att, \"===================================\")\n",
    "    clf = torch.load(\"./../data/detection/run_1/cif10/wrn_28_10_10/\" + att + \"/LID/k_10/RF/RF.clf\".format(i))\n",
    "    feature_importance[att] = clf.feature_importances_\n",
    "    print(\"importance: \", clf.feature_importances_)"
   ]
  },
  {
   "cell_type": "code",
   "execution_count": null,
   "id": "e074a5dc-f9ad-43de-92e4-ab79ef1354d2",
   "metadata": {},
   "outputs": [],
   "source": [
    "feature_importance"
   ]
  },
  {
   "cell_type": "code",
   "execution_count": null,
   "id": "e0c0b47d-dbd1-4d70-9263-d7454a58ca9d",
   "metadata": {},
   "outputs": [],
   "source": [
    "df = pd.DataFrame(feature_importance)"
   ]
  },
  {
   "cell_type": "code",
   "execution_count": null,
   "id": "1c41f2f6-ad15-43b6-b8cc-fdc938277e33",
   "metadata": {},
   "outputs": [],
   "source": [
    "plt = df.plot.bar(ylabel='feature importance', xlabel='layer number', title='WRN 28-10 - CIFAR10, k=10', rot=0)"
   ]
  },
  {
   "cell_type": "code",
   "execution_count": null,
   "id": "a5a1980b-be32-4820-a617-e87f5bd59b23",
   "metadata": {},
   "outputs": [],
   "source": [
    "plt.figure.savefig(\"plots/feature_importance/cifar10_wrn2810_k10.png\")"
   ]
  },
  {
   "cell_type": "code",
   "execution_count": null,
   "id": "f93e14e4-6d5a-41f1-90a9-15fa07dec34f",
   "metadata": {},
   "outputs": [],
   "source": [
    "ATTACKS = ['gauss', 'fgsm', 'bim', 'pgd', 'df', 'cw']\n",
    "\n",
    "plots = []\n",
    "\n",
    "feature_importance = {}\n",
    "for k in [5, 10, 20, 50]:\n",
    "    for att in ATTACKS:\n",
    "        print( att, \"===================================\")\n",
    "        clf = torch.load(\"./../data/detection/run_1/cif10/wrn_28_10_10/\" + att + \"/LID/k_{}/RF/RF.clf\".format(i))\n",
    "        feature_importance[att] = clf.feature_importances_\n",
    "        print(\"importance: \", clf.feature_importances_)"
   ]
  }
 ],
 "metadata": {
  "kernelspec": {
   "display_name": "Python [conda env:.conda-cuda--11-1-1--pytorch--1-9-0]",
   "language": "python",
   "name": "conda-env-.conda-cuda--11-1-1--pytorch--1-9-0-py"
  },
  "language_info": {
   "codemirror_mode": {
    "name": "ipython",
    "version": 3
   },
   "file_extension": ".py",
   "mimetype": "text/x-python",
   "name": "python",
   "nbconvert_exporter": "python",
   "pygments_lexer": "ipython3",
   "version": "3.9.12"
  }
 },
 "nbformat": 4,
 "nbformat_minor": 5
}
