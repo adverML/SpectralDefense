{
 "cells": [
  {
   "cell_type": "code",
   "execution_count": 28,
   "id": "a674d7a0-8853-4e4c-bd3e-a5e75504b2af",
   "metadata": {},
   "outputs": [],
   "source": [
    "import numpy as np\n",
    "import torch\n",
    "import matplotlib.pyplot as plt\n",
    "import pandas as pd"
   ]
  },
  {
   "cell_type": "code",
   "execution_count": 30,
   "id": "7a4d699d-705c-4740-90b5-56c0a1e5fc09",
   "metadata": {},
   "outputs": [],
   "source": [
    "clf = torch.load(\"./../data/detection/run_1/cif10/wrn_28_10_10/fgsm/LID/k_20/layer_8/RF/RF.clf\")"
   ]
  },
  {
   "cell_type": "code",
   "execution_count": 31,
   "id": "6ce5ef1d-ba5d-4d78-a299-9a094c3410e4",
   "metadata": {},
   "outputs": [
    {
     "name": "stdout",
     "output_type": "stream",
     "text": [
      "RandomForestClassifier(n_estimators=300, n_jobs=-1, random_state=21)\n"
     ]
    }
   ],
   "source": [
    "print(clf)"
   ]
  },
  {
   "cell_type": "code",
   "execution_count": 32,
   "id": "8629934d-8d94-4c0a-b9a6-5c034f46b15c",
   "metadata": {},
   "outputs": [
    {
     "data": {
      "text/plain": [
       "array([1.])"
      ]
     },
     "execution_count": 32,
     "metadata": {},
     "output_type": "execute_result"
    }
   ],
   "source": [
    "importance = clf.feature_importances_\n",
    "importance"
   ]
  },
  {
   "cell_type": "code",
   "execution_count": 33,
   "id": "3139daf8-c4ff-44f1-a616-e20d74ab4df5",
   "metadata": {},
   "outputs": [
    {
     "name": "stdout",
     "output_type": "stream",
     "text": [
      "fgsm ===================================\n",
      "layer 0 [1.]\n",
      "layer 1 [1.]\n",
      "layer 2 [1.]\n",
      "layer 3 [1.]\n",
      "layer 4 [1.]\n",
      "layer 5 [1.]\n",
      "layer 6 [1.]\n",
      "layer 7 [1.]\n",
      "layer 8 [1.]\n",
      "layer 9 [1.]\n",
      "layer 10 [1.]\n",
      "layer 11 [1.]\n",
      "bim ===================================\n",
      "layer 0 [1.]\n",
      "layer 1 [1.]\n",
      "layer 2 [1.]\n",
      "layer 3 [1.]\n",
      "layer 4 [1.]\n",
      "layer 5 [1.]\n",
      "layer 6 [1.]\n",
      "layer 7 [1.]\n",
      "layer 8 [1.]\n",
      "layer 9 [1.]\n",
      "layer 10 [1.]\n",
      "layer 11 [1.]\n",
      "pgd ===================================\n",
      "layer 0 [1.]\n",
      "layer 1 [1.]\n",
      "layer 2 [1.]\n",
      "layer 3 [1.]\n",
      "layer 4 [1.]\n",
      "layer 5 [1.]\n",
      "layer 6 [1.]\n",
      "layer 7 [1.]\n",
      "layer 8 [1.]\n",
      "layer 9 [1.]\n",
      "layer 10 [1.]\n",
      "layer 11 [1.]\n",
      "df ===================================\n",
      "layer 0 [1.]\n",
      "layer 1 [1.]\n",
      "layer 2 [1.]\n",
      "layer 3 [1.]\n",
      "layer 4 [1.]\n",
      "layer 5 [1.]\n",
      "layer 6 [1.]\n",
      "layer 7 [1.]\n",
      "layer 8 [1.]\n",
      "layer 9 [1.]\n",
      "layer 10 [1.]\n",
      "layer 11 [1.]\n",
      "cw ===================================\n",
      "layer 0 [1.]\n",
      "layer 1 [1.]\n",
      "layer 2 [1.]\n",
      "layer 3 [1.]\n",
      "layer 4 [1.]\n",
      "layer 5 [1.]\n",
      "layer 6 [1.]\n",
      "layer 7 [1.]\n",
      "layer 8 [1.]\n",
      "layer 9 [1.]\n",
      "layer 10 [1.]\n",
      "layer 11 [1.]\n"
     ]
    }
   ],
   "source": [
    "ATTACKS = ['gauss', 'fgsm', 'bim', 'pgd', 'df', 'cw']\n",
    "ATTACKS = ['fgsm', 'bim', 'pgd', 'df', 'cw']\n",
    "\n",
    "\n",
    "for att in ATTACKS:\n",
    "    print( att, \"===================================\")\n",
    "    for i in range(12):\n",
    "        clf = torch.load(\"./../data/detection/run_1/cif10/wrn_28_10_10/\" + att + \"/LID/k_5/layer_{}/RF/RF.clf\".format(i))\n",
    "        print(\"layer\", i, clf.feature_importances_)"
   ]
  },
  {
   "cell_type": "code",
   "execution_count": 34,
   "id": "eb1fbbc9-ed66-4c9f-93a0-cae226f4b9c0",
   "metadata": {},
   "outputs": [
    {
     "name": "stdout",
     "output_type": "stream",
     "text": [
      "gauss ===================================\n",
      "importance:  [0.02127417 0.03026211 0.01879851 0.14949411 0.05135778 0.02687484\n",
      " 0.02352811 0.03332776 0.01850344 0.03047328 0.08669161 0.34651557\n",
      " 0.16289871]\n",
      "fgsm ===================================\n",
      "importance:  [0.03970159 0.1164327  0.05460795 0.23248282 0.04977856 0.02222687\n",
      " 0.01826905 0.01606433 0.07101061 0.04927569 0.02524066 0.20949484\n",
      " 0.09541431]\n",
      "bim ===================================\n",
      "importance:  [0.02955799 0.03475442 0.0286254  0.16410419 0.11243226 0.03940012\n",
      " 0.03982127 0.05078999 0.02344867 0.02273779 0.20062416 0.13804093\n",
      " 0.11566283]\n",
      "aa ===================================\n",
      "importance:  [0.01096924 0.03955543 0.0103739  0.17952835 0.08951704 0.02045989\n",
      " 0.01730597 0.02159851 0.03210066 0.02875058 0.01687763 0.21913321\n",
      " 0.31382958]\n",
      "pgd ===================================\n",
      "importance:  [0.03173638 0.03236187 0.0310141  0.08702063 0.10729641 0.02518612\n",
      " 0.03407174 0.04275189 0.02597099 0.02608785 0.18760278 0.20592459\n",
      " 0.16297466]\n",
      "df ===================================\n",
      "importance:  [0.02051114 0.01448017 0.02210592 0.02882424 0.03738294 0.02065742\n",
      " 0.01983941 0.0212973  0.02006059 0.02469265 0.08401024 0.32819871\n",
      " 0.35793925]\n",
      "cw ===================================\n",
      "importance:  [0.01684195 0.01286017 0.01718254 0.01798074 0.01416154 0.01473228\n",
      " 0.01533582 0.01777024 0.0197475  0.01993947 0.08075898 0.31859147\n",
      " 0.4340973 ]\n"
     ]
    }
   ],
   "source": [
    "ATTACKS = ['gauss', 'fgsm', 'bim', 'aa', 'pgd', 'df', 'cw']\n",
    "\n",
    "feature_importance = {}\n",
    "\n",
    "for att in ATTACKS:\n",
    "    print( att, \"===================================\")\n",
    "    if not att == 'aa':\n",
    "        clf = torch.load(\"./../data/detection/run_1/cif10/wrn_28_10_10/\" + att + \"/LID/k_10/RF/RF.clf\".format(i))\n",
    "    else:\n",
    "        clf = torch.load(\"./../data/detection/run_1/cif10/wrn_28_10_10/\" + \"std/8_255\" + \"/LID/RF/RF.clf\".format(i))\n",
    "    feature_importance[att] = clf.feature_importances_\n",
    "    print(\"importance: \", clf.feature_importances_)"
   ]
  },
  {
   "cell_type": "code",
   "execution_count": 35,
   "id": "e074a5dc-f9ad-43de-92e4-ab79ef1354d2",
   "metadata": {},
   "outputs": [
    {
     "data": {
      "text/plain": [
       "{'gauss': array([0.02127417, 0.03026211, 0.01879851, 0.14949411, 0.05135778,\n",
       "        0.02687484, 0.02352811, 0.03332776, 0.01850344, 0.03047328,\n",
       "        0.08669161, 0.34651557, 0.16289871]),\n",
       " 'fgsm': array([0.03970159, 0.1164327 , 0.05460795, 0.23248282, 0.04977856,\n",
       "        0.02222687, 0.01826905, 0.01606433, 0.07101061, 0.04927569,\n",
       "        0.02524066, 0.20949484, 0.09541431]),\n",
       " 'bim': array([0.02955799, 0.03475442, 0.0286254 , 0.16410419, 0.11243226,\n",
       "        0.03940012, 0.03982127, 0.05078999, 0.02344867, 0.02273779,\n",
       "        0.20062416, 0.13804093, 0.11566283]),\n",
       " 'aa': array([0.01096924, 0.03955543, 0.0103739 , 0.17952835, 0.08951704,\n",
       "        0.02045989, 0.01730597, 0.02159851, 0.03210066, 0.02875058,\n",
       "        0.01687763, 0.21913321, 0.31382958]),\n",
       " 'pgd': array([0.03173638, 0.03236187, 0.0310141 , 0.08702063, 0.10729641,\n",
       "        0.02518612, 0.03407174, 0.04275189, 0.02597099, 0.02608785,\n",
       "        0.18760278, 0.20592459, 0.16297466]),\n",
       " 'df': array([0.02051114, 0.01448017, 0.02210592, 0.02882424, 0.03738294,\n",
       "        0.02065742, 0.01983941, 0.0212973 , 0.02006059, 0.02469265,\n",
       "        0.08401024, 0.32819871, 0.35793925]),\n",
       " 'cw': array([0.01684195, 0.01286017, 0.01718254, 0.01798074, 0.01416154,\n",
       "        0.01473228, 0.01533582, 0.01777024, 0.0197475 , 0.01993947,\n",
       "        0.08075898, 0.31859147, 0.4340973 ])}"
      ]
     },
     "execution_count": 35,
     "metadata": {},
     "output_type": "execute_result"
    }
   ],
   "source": [
    "feature_importance"
   ]
  },
  {
   "cell_type": "code",
   "execution_count": 36,
   "id": "e0c0b47d-dbd1-4d70-9263-d7454a58ca9d",
   "metadata": {},
   "outputs": [],
   "source": [
    "df = pd.DataFrame(feature_importance)"
   ]
  },
  {
   "cell_type": "code",
   "execution_count": 37,
   "id": "8a166060-fc88-4ce2-9c87-cb39728e5905",
   "metadata": {},
   "outputs": [
    {
     "data": {
      "text/html": [
       "<div>\n",
       "<style scoped>\n",
       "    .dataframe tbody tr th:only-of-type {\n",
       "        vertical-align: middle;\n",
       "    }\n",
       "\n",
       "    .dataframe tbody tr th {\n",
       "        vertical-align: top;\n",
       "    }\n",
       "\n",
       "    .dataframe thead th {\n",
       "        text-align: right;\n",
       "    }\n",
       "</style>\n",
       "<table border=\"1\" class=\"dataframe\">\n",
       "  <thead>\n",
       "    <tr style=\"text-align: right;\">\n",
       "      <th></th>\n",
       "      <th>gauss</th>\n",
       "      <th>fgsm</th>\n",
       "      <th>bim</th>\n",
       "      <th>aa</th>\n",
       "      <th>pgd</th>\n",
       "      <th>df</th>\n",
       "      <th>cw</th>\n",
       "    </tr>\n",
       "  </thead>\n",
       "  <tbody>\n",
       "    <tr>\n",
       "      <th>0</th>\n",
       "      <td>0.021274</td>\n",
       "      <td>0.039702</td>\n",
       "      <td>0.029558</td>\n",
       "      <td>0.010969</td>\n",
       "      <td>0.031736</td>\n",
       "      <td>0.020511</td>\n",
       "      <td>0.016842</td>\n",
       "    </tr>\n",
       "    <tr>\n",
       "      <th>1</th>\n",
       "      <td>0.030262</td>\n",
       "      <td>0.116433</td>\n",
       "      <td>0.034754</td>\n",
       "      <td>0.039555</td>\n",
       "      <td>0.032362</td>\n",
       "      <td>0.014480</td>\n",
       "      <td>0.012860</td>\n",
       "    </tr>\n",
       "    <tr>\n",
       "      <th>2</th>\n",
       "      <td>0.018799</td>\n",
       "      <td>0.054608</td>\n",
       "      <td>0.028625</td>\n",
       "      <td>0.010374</td>\n",
       "      <td>0.031014</td>\n",
       "      <td>0.022106</td>\n",
       "      <td>0.017183</td>\n",
       "    </tr>\n",
       "    <tr>\n",
       "      <th>3</th>\n",
       "      <td>0.149494</td>\n",
       "      <td>0.232483</td>\n",
       "      <td>0.164104</td>\n",
       "      <td>0.179528</td>\n",
       "      <td>0.087021</td>\n",
       "      <td>0.028824</td>\n",
       "      <td>0.017981</td>\n",
       "    </tr>\n",
       "    <tr>\n",
       "      <th>4</th>\n",
       "      <td>0.051358</td>\n",
       "      <td>0.049779</td>\n",
       "      <td>0.112432</td>\n",
       "      <td>0.089517</td>\n",
       "      <td>0.107296</td>\n",
       "      <td>0.037383</td>\n",
       "      <td>0.014162</td>\n",
       "    </tr>\n",
       "    <tr>\n",
       "      <th>5</th>\n",
       "      <td>0.026875</td>\n",
       "      <td>0.022227</td>\n",
       "      <td>0.039400</td>\n",
       "      <td>0.020460</td>\n",
       "      <td>0.025186</td>\n",
       "      <td>0.020657</td>\n",
       "      <td>0.014732</td>\n",
       "    </tr>\n",
       "    <tr>\n",
       "      <th>6</th>\n",
       "      <td>0.023528</td>\n",
       "      <td>0.018269</td>\n",
       "      <td>0.039821</td>\n",
       "      <td>0.017306</td>\n",
       "      <td>0.034072</td>\n",
       "      <td>0.019839</td>\n",
       "      <td>0.015336</td>\n",
       "    </tr>\n",
       "    <tr>\n",
       "      <th>7</th>\n",
       "      <td>0.033328</td>\n",
       "      <td>0.016064</td>\n",
       "      <td>0.050790</td>\n",
       "      <td>0.021599</td>\n",
       "      <td>0.042752</td>\n",
       "      <td>0.021297</td>\n",
       "      <td>0.017770</td>\n",
       "    </tr>\n",
       "    <tr>\n",
       "      <th>8</th>\n",
       "      <td>0.018503</td>\n",
       "      <td>0.071011</td>\n",
       "      <td>0.023449</td>\n",
       "      <td>0.032101</td>\n",
       "      <td>0.025971</td>\n",
       "      <td>0.020061</td>\n",
       "      <td>0.019747</td>\n",
       "    </tr>\n",
       "    <tr>\n",
       "      <th>9</th>\n",
       "      <td>0.030473</td>\n",
       "      <td>0.049276</td>\n",
       "      <td>0.022738</td>\n",
       "      <td>0.028751</td>\n",
       "      <td>0.026088</td>\n",
       "      <td>0.024693</td>\n",
       "      <td>0.019939</td>\n",
       "    </tr>\n",
       "    <tr>\n",
       "      <th>10</th>\n",
       "      <td>0.086692</td>\n",
       "      <td>0.025241</td>\n",
       "      <td>0.200624</td>\n",
       "      <td>0.016878</td>\n",
       "      <td>0.187603</td>\n",
       "      <td>0.084010</td>\n",
       "      <td>0.080759</td>\n",
       "    </tr>\n",
       "    <tr>\n",
       "      <th>11</th>\n",
       "      <td>0.346516</td>\n",
       "      <td>0.209495</td>\n",
       "      <td>0.138041</td>\n",
       "      <td>0.219133</td>\n",
       "      <td>0.205925</td>\n",
       "      <td>0.328199</td>\n",
       "      <td>0.318591</td>\n",
       "    </tr>\n",
       "    <tr>\n",
       "      <th>12</th>\n",
       "      <td>0.162899</td>\n",
       "      <td>0.095414</td>\n",
       "      <td>0.115663</td>\n",
       "      <td>0.313830</td>\n",
       "      <td>0.162975</td>\n",
       "      <td>0.357939</td>\n",
       "      <td>0.434097</td>\n",
       "    </tr>\n",
       "  </tbody>\n",
       "</table>\n",
       "</div>"
      ],
      "text/plain": [
       "       gauss      fgsm       bim        aa       pgd        df        cw\n",
       "0   0.021274  0.039702  0.029558  0.010969  0.031736  0.020511  0.016842\n",
       "1   0.030262  0.116433  0.034754  0.039555  0.032362  0.014480  0.012860\n",
       "2   0.018799  0.054608  0.028625  0.010374  0.031014  0.022106  0.017183\n",
       "3   0.149494  0.232483  0.164104  0.179528  0.087021  0.028824  0.017981\n",
       "4   0.051358  0.049779  0.112432  0.089517  0.107296  0.037383  0.014162\n",
       "5   0.026875  0.022227  0.039400  0.020460  0.025186  0.020657  0.014732\n",
       "6   0.023528  0.018269  0.039821  0.017306  0.034072  0.019839  0.015336\n",
       "7   0.033328  0.016064  0.050790  0.021599  0.042752  0.021297  0.017770\n",
       "8   0.018503  0.071011  0.023449  0.032101  0.025971  0.020061  0.019747\n",
       "9   0.030473  0.049276  0.022738  0.028751  0.026088  0.024693  0.019939\n",
       "10  0.086692  0.025241  0.200624  0.016878  0.187603  0.084010  0.080759\n",
       "11  0.346516  0.209495  0.138041  0.219133  0.205925  0.328199  0.318591\n",
       "12  0.162899  0.095414  0.115663  0.313830  0.162975  0.357939  0.434097"
      ]
     },
     "execution_count": 37,
     "metadata": {},
     "output_type": "execute_result"
    }
   ],
   "source": [
    "df"
   ]
  },
  {
   "cell_type": "code",
   "execution_count": 38,
   "id": "9d7c850e-4782-42e7-8453-17ac5329ea5f",
   "metadata": {},
   "outputs": [],
   "source": [
    "cdict = {0: 'black', 1: 'pink', 2: 'blue', 3: 'red', 4: 'green', 5: 'cyan', 6: 'orange', 7: 'purple'}\n",
    "\n",
    "colors = { \"gauss\" : 'pink', \"fgsm\": 'blue', \"bim\": 'red', \"aa\": 'green', \"pgd\": 'cyan', \"df\": 'orange', \"cw\": 'purple'}"
   ]
  },
  {
   "cell_type": "code",
   "execution_count": 43,
   "id": "1c41f2f6-ad15-43b6-b8cc-fdc938277e33",
   "metadata": {
    "tags": []
   },
   "outputs": [
    {
     "data": {
      "image/png": "[encoded data removed]",
      "text/plain": [
       "<Figure size 432x288 with 1 Axes>"
      ]
     },
     "metadata": {
      "needs_background": "light"
     },
     "output_type": "display_data"
    }
   ],
   "source": [
    "plt = df.plot.bar(ylabel='feature importance', xlabel='feature number', title='Feature Importance. WRN 28-10 - CIFAR10, k=20', rot=0, color=colors)"
   ]
  },
  {
   "cell_type": "code",
   "execution_count": 44,
   "id": "a5a1980b-be32-4820-a617-e87f5bd59b23",
   "metadata": {},
   "outputs": [],
   "source": [
    "plt.figure.savefig(\"plots/feature_importance/cifar10_wrn2810_k10.png\", bbox_inches='tight')"
   ]
  },
  {
   "cell_type": "code",
   "execution_count": 45,
   "id": "f93e14e4-6d5a-41f1-90a9-15fa07dec34f",
   "metadata": {},
   "outputs": [
    {
     "name": "stdout",
     "output_type": "stream",
     "text": [
      "gauss ===================================\n"
     ]
    },
    {
     "ename": "FileNotFoundError",
     "evalue": "[Errno 2] No such file or directory: './../data/detection/run_1/cif10/wrn_28_10_10/gauss/LID/k_11/RF/RF.clf'",
     "output_type": "error",
     "traceback": [
      "\u001b[0;31m---------------------------------------------------------------------------\u001b[0m",
      "\u001b[0;31mFileNotFoundError\u001b[0m                         Traceback (most recent call last)",
      "Input \u001b[0;32mIn [45]\u001b[0m, in \u001b[0;36m<cell line: 6>\u001b[0;34m()\u001b[0m\n\u001b[1;32m      7\u001b[0m \u001b[38;5;28;01mfor\u001b[39;00m att \u001b[38;5;129;01min\u001b[39;00m ATTACKS:\n\u001b[1;32m      8\u001b[0m     \u001b[38;5;28mprint\u001b[39m( att, \u001b[38;5;124m\"\u001b[39m\u001b[38;5;124m===================================\u001b[39m\u001b[38;5;124m\"\u001b[39m)\n\u001b[0;32m----> 9\u001b[0m     clf \u001b[38;5;241m=\u001b[39m \u001b[43mtorch\u001b[49m\u001b[38;5;241;43m.\u001b[39;49m\u001b[43mload\u001b[49m\u001b[43m(\u001b[49m\u001b[38;5;124;43m\"\u001b[39;49m\u001b[38;5;124;43m./../data/detection/run_1/cif10/wrn_28_10_10/\u001b[39;49m\u001b[38;5;124;43m\"\u001b[39;49m\u001b[43m \u001b[49m\u001b[38;5;241;43m+\u001b[39;49m\u001b[43m \u001b[49m\u001b[43matt\u001b[49m\u001b[43m \u001b[49m\u001b[38;5;241;43m+\u001b[39;49m\u001b[43m \u001b[49m\u001b[38;5;124;43m\"\u001b[39;49m\u001b[38;5;124;43m/LID/k_\u001b[39;49m\u001b[38;5;132;43;01m{}\u001b[39;49;00m\u001b[38;5;124;43m/RF/RF.clf\u001b[39;49m\u001b[38;5;124;43m\"\u001b[39;49m\u001b[38;5;241;43m.\u001b[39;49m\u001b[43mformat\u001b[49m\u001b[43m(\u001b[49m\u001b[43mi\u001b[49m\u001b[43m)\u001b[49m\u001b[43m)\u001b[49m\n\u001b[1;32m     10\u001b[0m     feature_importance[att] \u001b[38;5;241m=\u001b[39m clf\u001b[38;5;241m.\u001b[39mfeature_importances_\n\u001b[1;32m     11\u001b[0m     \u001b[38;5;28mprint\u001b[39m(\u001b[38;5;124m\"\u001b[39m\u001b[38;5;124mimportance: \u001b[39m\u001b[38;5;124m\"\u001b[39m, clf\u001b[38;5;241m.\u001b[39mfeature_importances_)\n",
      "File \u001b[0;32m~/.conda/envs/cuda--11-1-1--pytorch--1-9-0/lib/python3.9/site-packages/torch/serialization.py:594\u001b[0m, in \u001b[0;36mload\u001b[0;34m(f, map_location, pickle_module, **pickle_load_args)\u001b[0m\n\u001b[1;32m    591\u001b[0m \u001b[38;5;28;01mif\u001b[39;00m \u001b[38;5;124m'\u001b[39m\u001b[38;5;124mencoding\u001b[39m\u001b[38;5;124m'\u001b[39m \u001b[38;5;129;01mnot\u001b[39;00m \u001b[38;5;129;01min\u001b[39;00m pickle_load_args\u001b[38;5;241m.\u001b[39mkeys():\n\u001b[1;32m    592\u001b[0m     pickle_load_args[\u001b[38;5;124m'\u001b[39m\u001b[38;5;124mencoding\u001b[39m\u001b[38;5;124m'\u001b[39m] \u001b[38;5;241m=\u001b[39m \u001b[38;5;124m'\u001b[39m\u001b[38;5;124mutf-8\u001b[39m\u001b[38;5;124m'\u001b[39m\n\u001b[0;32m--> 594\u001b[0m \u001b[38;5;28;01mwith\u001b[39;00m \u001b[43m_open_file_like\u001b[49m\u001b[43m(\u001b[49m\u001b[43mf\u001b[49m\u001b[43m,\u001b[49m\u001b[43m \u001b[49m\u001b[38;5;124;43m'\u001b[39;49m\u001b[38;5;124;43mrb\u001b[39;49m\u001b[38;5;124;43m'\u001b[39;49m\u001b[43m)\u001b[49m \u001b[38;5;28;01mas\u001b[39;00m opened_file:\n\u001b[1;32m    595\u001b[0m     \u001b[38;5;28;01mif\u001b[39;00m _is_zipfile(opened_file):\n\u001b[1;32m    596\u001b[0m         \u001b[38;5;66;03m# The zipfile reader is going to advance the current file position.\u001b[39;00m\n\u001b[1;32m    597\u001b[0m         \u001b[38;5;66;03m# If we want to actually tail call to torch.jit.load, we need to\u001b[39;00m\n\u001b[1;32m    598\u001b[0m         \u001b[38;5;66;03m# reset back to the original position.\u001b[39;00m\n\u001b[1;32m    599\u001b[0m         orig_position \u001b[38;5;241m=\u001b[39m opened_file\u001b[38;5;241m.\u001b[39mtell()\n",
      "File \u001b[0;32m~/.conda/envs/cuda--11-1-1--pytorch--1-9-0/lib/python3.9/site-packages/torch/serialization.py:230\u001b[0m, in \u001b[0;36m_open_file_like\u001b[0;34m(name_or_buffer, mode)\u001b[0m\n\u001b[1;32m    228\u001b[0m \u001b[38;5;28;01mdef\u001b[39;00m \u001b[38;5;21m_open_file_like\u001b[39m(name_or_buffer, mode):\n\u001b[1;32m    229\u001b[0m     \u001b[38;5;28;01mif\u001b[39;00m _is_path(name_or_buffer):\n\u001b[0;32m--> 230\u001b[0m         \u001b[38;5;28;01mreturn\u001b[39;00m \u001b[43m_open_file\u001b[49m\u001b[43m(\u001b[49m\u001b[43mname_or_buffer\u001b[49m\u001b[43m,\u001b[49m\u001b[43m \u001b[49m\u001b[43mmode\u001b[49m\u001b[43m)\u001b[49m\n\u001b[1;32m    231\u001b[0m     \u001b[38;5;28;01melse\u001b[39;00m:\n\u001b[1;32m    232\u001b[0m         \u001b[38;5;28;01mif\u001b[39;00m \u001b[38;5;124m'\u001b[39m\u001b[38;5;124mw\u001b[39m\u001b[38;5;124m'\u001b[39m \u001b[38;5;129;01min\u001b[39;00m mode:\n",
      "File \u001b[0;32m~/.conda/envs/cuda--11-1-1--pytorch--1-9-0/lib/python3.9/site-packages/torch/serialization.py:211\u001b[0m, in \u001b[0;36m_open_file.__init__\u001b[0;34m(self, name, mode)\u001b[0m\n\u001b[1;32m    210\u001b[0m \u001b[38;5;28;01mdef\u001b[39;00m \u001b[38;5;21m__init__\u001b[39m(\u001b[38;5;28mself\u001b[39m, name, mode):\n\u001b[0;32m--> 211\u001b[0m     \u001b[38;5;28msuper\u001b[39m(_open_file, \u001b[38;5;28mself\u001b[39m)\u001b[38;5;241m.\u001b[39m\u001b[38;5;21m__init__\u001b[39m(\u001b[38;5;28;43mopen\u001b[39;49m\u001b[43m(\u001b[49m\u001b[43mname\u001b[49m\u001b[43m,\u001b[49m\u001b[43m \u001b[49m\u001b[43mmode\u001b[49m\u001b[43m)\u001b[49m)\n",
      "\u001b[0;31mFileNotFoundError\u001b[0m: [Errno 2] No such file or directory: './../data/detection/run_1/cif10/wrn_28_10_10/gauss/LID/k_11/RF/RF.clf'"
     ]
    }
   ],
   "source": [
    "ATTACKS = ['gauss', 'fgsm', 'bim', 'pgd', 'df', 'cw']\n",
    "\n",
    "plots = []\n",
    "\n",
    "feature_importance = {}\n",
    "for k in [5, 10, 20, 50]:\n",
    "    for att in ATTACKS:\n",
    "        print( att, \"===================================\")\n",
    "        clf = torch.load(\"./../data/detection/run_1/cif10/wrn_28_10_10/\" + att + \"/LID/k_{}/RF/RF.clf\".format(i))\n",
    "        feature_importance[att] = clf.feature_importances_\n",
    "        print(\"importance: \", clf.feature_importances_)"
   ]
  },
  {
   "cell_type": "code",
   "execution_count": 46,
   "id": "7fb4622d-883c-4468-a0ff-8990ce8ab1e3",
   "metadata": {},
   "outputs": [
    {
     "name": "stdout",
     "output_type": "stream",
     "text": [
      "fgsm ===================================\n",
      "importance:  [0.03970159 0.1164327  0.05460795 0.23248282 0.04977856 0.02222687\n",
      " 0.01826905 0.01606433 0.07101061 0.04927569 0.02524066 0.20949484\n",
      " 0.09541431]\n",
      "bim ===================================\n",
      "importance:  [0.02955799 0.03475442 0.0286254  0.16410419 0.11243226 0.03940012\n",
      " 0.03982127 0.05078999 0.02344867 0.02273779 0.20062416 0.13804093\n",
      " 0.11566283]\n",
      "pgd ===================================\n",
      "importance:  [0.03173638 0.03236187 0.0310141  0.08702063 0.10729641 0.02518612\n",
      " 0.03407174 0.04275189 0.02597099 0.02608785 0.18760278 0.20592459\n",
      " 0.16297466]\n",
      "aa ===================================\n",
      "importance:  [0.01096924 0.03955543 0.0103739  0.17952835 0.08951704 0.02045989\n",
      " 0.01730597 0.02159851 0.03210066 0.02875058 0.01687763 0.21913321\n",
      " 0.31382958]\n",
      "df ===================================\n",
      "importance:  [0.02051114 0.01448017 0.02210592 0.02882424 0.03738294 0.02065742\n",
      " 0.01983941 0.0212973  0.02006059 0.02469265 0.08401024 0.32819871\n",
      " 0.35793925]\n",
      "cw ===================================\n",
      "importance:  [0.01684195 0.01286017 0.01718254 0.01798074 0.01416154 0.01473228\n",
      " 0.01533582 0.01777024 0.0197475  0.01993947 0.08075898 0.31859147\n",
      " 0.4340973 ]\n"
     ]
    }
   ],
   "source": [
    "ATTACKS = ['fgsm', 'bim', 'pgd', 'aa', 'df', 'cw']\n",
    "\n",
    "feature_importance = {}\n",
    "\n",
    "for att in ATTACKS:\n",
    "    print( att, \"===================================\")\n",
    "    if not att == 'aa':\n",
    "        clf = torch.load(\"./../data/detection/run_1/cif10/wrn_28_10_10/\" + att + \"/LID/k_10/RF/RF.clf\".format(i))\n",
    "    else:\n",
    "        clf = torch.load(\"./../data/detection/run_1/cif10/wrn_28_10_10/\" + \"std/8_255\" + \"/LID/RF/RF.clf\".format(i))\n",
    "    feature_importance[att] = clf.feature_importances_\n",
    "    print(\"importance: \", clf.feature_importances_)"
   ]
  },
  {
   "cell_type": "code",
   "execution_count": 47,
   "id": "7f9884b0-6db4-40da-b5d1-ea46e1c5dbd8",
   "metadata": {},
   "outputs": [],
   "source": [
    "cdict = {0: 'black', 1: 'pink', 2: 'blue', 3: 'red', 4: 'green', 5: 'cyan', 6: 'orange', 7: 'purple'}\n",
    "colors = {\"gauss\": \"pink\", \"fgsm\": 'blue', \"bim\": 'red', \"pgd\": 'green',  \"aa\": 'cyan', \"df\": 'orange', \"cw\": 'purple'}"
   ]
  },
  {
   "cell_type": "code",
   "execution_count": 48,
   "id": "a6a20929-523d-43b4-ae8d-1140bf643858",
   "metadata": {},
   "outputs": [],
   "source": [
    "df = pd.DataFrame(feature_importance)"
   ]
  },
  {
   "cell_type": "code",
   "execution_count": 49,
   "id": "884e4a03-cf48-4c3e-add8-129b2aceec26",
   "metadata": {},
   "outputs": [
    {
     "data": {
      "image/png": "[encoded data removed]",
      "text/plain": [
       "<Figure size 432x288 with 1 Axes>"
      ]
     },
     "metadata": {
      "needs_background": "light"
     },
     "output_type": "display_data"
    }
   ],
   "source": [
    "plt = df.plot.bar(ylabel='feature importance', xlabel='feature', title='Feature importance of a WRN 28-10 - CIFAR10', rot=0, color=colors)"
   ]
  },
  {
   "cell_type": "code",
   "execution_count": 50,
   "id": "5a37bafe-991b-456b-b5a4-f56d4bbba92c",
   "metadata": {},
   "outputs": [],
   "source": [
    "plt.figure.savefig(\"plots/feature_importance/cifar10_wrn2810_k20_fi.png\", bbox_inches='tight')"
   ]
  },
  {
   "cell_type": "code",
   "execution_count": null,
   "id": "f283a3f9-37e4-490c-a4ba-a7ac13ee60fb",
   "metadata": {},
   "outputs": [],
   "source": []
  }
 ],
 "metadata": {
  "kernelspec": {
   "display_name": "Python [conda env:.conda-cuda--11-1-1--pytorch--1-9-0]",
   "language": "python",
   "name": "conda-env-.conda-cuda--11-1-1--pytorch--1-9-0-py"
  },
  "language_info": {
   "codemirror_mode": {
    "name": "ipython",
    "version": 3
   },
   "file_extension": ".py",
   "mimetype": "text/x-python",
   "name": "python",
   "nbconvert_exporter": "python",
   "pygments_lexer": "ipython3",
   "version": "3.9.12"
  }
 },
 "nbformat": 4,
 "nbformat_minor": 5
}
