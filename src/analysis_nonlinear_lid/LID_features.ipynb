{
 "cells": [
  {
   "cell_type": "code",
   "execution_count": 1,
   "id": "0a9ea9cc-3156-4402-962c-5f5bf5dcfb03",
   "metadata": {},
   "outputs": [],
   "source": [
    "import torch\n",
    "import numpy as np\n",
    "import pandas as pd\n",
    "import torch "
   ]
  },
  {
   "cell_type": "code",
   "execution_count": 2,
   "id": "fddf0139-2ade-400b-bb76-d478da3eb1a5",
   "metadata": {},
   "outputs": [],
   "source": [
    "characteristics_pth = '../data/extracted_characteristics/run_1/cif10/wrn_28_10_10/gauss/LID/k_5/layer_0/characteristics'"
   ]
  },
  {
   "cell_type": "code",
   "execution_count": 3,
   "id": "a61b8eef-977c-4015-af55-61eae3a80ebc",
   "metadata": {},
   "outputs": [],
   "source": [
    "characteristics = torch.load(characteristics_pth)"
   ]
  },
  {
   "cell_type": "code",
   "execution_count": 4,
   "id": "cd8fa8b7-3b2e-4787-b117-3ece1ccceec6",
   "metadata": {},
   "outputs": [
    {
     "data": {
      "text/plain": [
       "(2000, 1)"
      ]
     },
     "execution_count": 4,
     "metadata": {},
     "output_type": "execute_result"
    }
   ],
   "source": [
    "characteristics.shape"
   ]
  },
  {
   "cell_type": "code",
   "execution_count": 5,
   "id": "759efe2c-8e00-4f72-8420-be5356b98f61",
   "metadata": {},
   "outputs": [
    {
     "data": {
      "text/plain": [
       "array([[ 60.916557],\n",
       "       [ 39.64073 ],\n",
       "       [ 25.196112],\n",
       "       ...,\n",
       "       [192.10013 ],\n",
       "       [ 77.49173 ],\n",
       "       [ 36.524048]], dtype=float32)"
      ]
     },
     "execution_count": 5,
     "metadata": {},
     "output_type": "execute_result"
    }
   ],
   "source": [
    "characteristics"
   ]
  },
  {
   "cell_type": "code",
   "execution_count": 6,
   "id": "f70c4696-21b6-4834-9a46-168877fc3dcc",
   "metadata": {},
   "outputs": [],
   "source": [
    "import os\n",
    "import glob\n",
    "import pdb \n",
    "import shutil\n",
    "import tqdm\n",
    "import pandas as pd\n",
    "import numpy as np\n",
    "from pathlib import Path\n",
    "\n",
    "# import datetime\n",
    "\n",
    "# from conf import settings\n",
    "# import csv\n",
    "# import argparse\n",
    "\n",
    "TRTE=False\n",
    "TRAINERR = False\n",
    "SELECTED_COL = ['asr', 'auc', 'f1', 'acc','pre','tpr', 'fnr', 'asrd']\n",
    "ATTACKS_LIST = ['gauss', 'fgsm', 'bim', 'pgd', 'std', 'df', 'cw']\n",
    "\n",
    "DETECTOR_LIST_LAYERS = ['LID']\n",
    "DETECTOR_LIST        = ['LID']\n",
    "CLF = ['LR']\n",
    "\n",
    "\n",
    "def check_eps(str_val):\n",
    "    if '8./255.' in str_val:\n",
    "        eps = '8_255'\n",
    "    elif '4./255.' in str_val:\n",
    "        eps = '4_255'     \n",
    "    elif '2./255.' in str_val:\n",
    "        eps = '2_255'\n",
    "    elif '1./255.' in str_val:\n",
    "        eps = '1_255'\n",
    "    elif '0.5/255.' in str_val:\n",
    "        eps = '05_255'\n",
    "    elif '1./1.' in str_val:\n",
    "        eps = '1_1'\n",
    "    elif '1./10.' in str_val:\n",
    "        eps = '1_10'\n",
    "    elif '1./100.' in str_val:\n",
    "        eps = '1_100'\n",
    "    elif '1./1000.' in str_val:\n",
    "        eps = '1_1000'\n",
    "\n",
    "    return eps\n",
    "\n",
    "\n",
    "def is_float(value):\n",
    "  try:\n",
    "    float(value)\n",
    "    return True\n",
    "  except:\n",
    "    return False\n",
    "\n",
    "\n",
    "def get_clean_accuracy(paths):\n",
    "    result = {}\n",
    "    for path in paths:\n",
    "        if 'gauss' in path:\n",
    "            attack_method = 'gauss'        \n",
    "        elif 'fgsm' in path:\n",
    "            attack_method = 'fgsm'\n",
    "        elif 'bim' in path:\n",
    "            attack_method = 'bim'\n",
    "        elif 'pgd' in path:\n",
    "            attack_method = 'pgd'\n",
    "            if 'apgd-ce' in path:\n",
    "                attack_method = 'apgd-ce'\n",
    "            elif 'apgd-t' in path:\n",
    "                attack_method = 'apgd-t'\n",
    "        elif 'std' in path:\n",
    "            attack_method = 'std'\n",
    "            if '8_255' in path:\n",
    "                eps = '8_255'\n",
    "            elif '4_255' in path:\n",
    "                eps = '4_255'     \n",
    "            elif '2_255' in path:\n",
    "                eps = '2_255'\n",
    "            elif '1_255' in path:\n",
    "                eps = '1_255'\n",
    "            elif '05_255' in path:\n",
    "                eps = '05_255'\n",
    "            elif '1_1' in path:\n",
    "                eps = '1_1'\n",
    "            elif '1_10' in path:\n",
    "                eps = '1_10'\n",
    "            elif '1_100' in path:\n",
    "                eps = '1_100'\n",
    "            elif '1_1000' in path:\n",
    "                eps = '1_1000'\n",
    "        elif 'aa+' in path:\n",
    "            attack_method = 'aa+' \n",
    "        elif 'fab-t+' in path:\n",
    "            attack_method = 'fab-t+'\n",
    "        elif 'fab+' in path:\n",
    "            attack_method = 'fab+'\n",
    "        elif 'square+' in path:\n",
    "            attack_method = 'square+'\n",
    "        elif 'fab-t' in path:\n",
    "            attack_method = 'fab-t'\n",
    "        elif 'square' in path:\n",
    "            attack_method = 'square'\n",
    "        elif 'df' in path:\n",
    "            attack_method = 'df'\n",
    "        elif 'cw' in path:\n",
    "            attack_method = 'cw'\n",
    "        else:\n",
    "            raise NotImplementedError(\"Attack Method not implemented! {}\".format(path))\n",
    "        \n",
    "        with open(path) as f_attack:\n",
    "            lines_attack = f_attack.readlines()\n",
    "\n",
    "        search_text = \"INFO: attack success rate:\"\n",
    "        search_text2 = \"INFO:  attack success rate:\"\n",
    "        \n",
    "        if TRTE:\n",
    "            search_text = \"INFO: te attack success rate:\"\n",
    "\n",
    "        asr_list = []\n",
    "        for line in lines_attack:\n",
    "\n",
    "            # import pdb; pdb.set_trace()\n",
    "            if line.__contains__(search_text) or line.__contains__(search_text2):\n",
    "                asr = float(line.strip().split(' ')[-1])\n",
    "                asr_list.append(asr)            \n",
    "                if attack_method  == 'std':\n",
    "                    result[attack_method + '_' + eps] = asr_list[-1]\n",
    "                else:\n",
    "                    result[attack_method] = asr_list[-1]\n",
    "                    \n",
    "    return result\n",
    "\n",
    "\n",
    "def sort_paths_by_layer(paths):\n",
    "    # './log_evaluation/cif/cif10/run_1/data/detection/cif10/wrn_28_10_10/fgsm/LayerPFS/layer_0/LR/log.txt'\n",
    "    sorted_paths = sorted(paths, key=lambda x: int(x.split('/')[-2].split('_')[-1]))\n",
    "\n",
    "    return sorted_paths\n"
   ]
  },
  {
   "cell_type": "code",
   "execution_count": 7,
   "id": "93bd0144-7396-4735-8a81-38fe99842e00",
   "metadata": {},
   "outputs": [
    {
     "name": "stdout",
     "output_type": "stream",
     "text": [
      " Extract information! \n",
      "clean accuracy:  {'apgd-t': 1.0, 'std_4_255': 1.0, 'std_8_255': 1.0, 'std_2_255': 0.9440585653462312, 'std_1_255': 0.5639090796811264, 'std_05_255': 0.23137482391742975, 'pgd': 1.0, 'apgd-ce': 1.0, 'aa+': 1.0, 'fab-t': 1.0, 'bim': 1.0, 'square': 0.98583984375, 'fab-t+': 0.99951171875, 'cw': 1.0, 'fab+': 0.99951171875, 'fgsm': 0.4758522727272727, 'df': 1.0, 'square+': 0.99091796875, 'gauss': 1.0}\n",
      "lr_paths:  ['../data/extracted_characteristics/run_1/cif10/wrn_28_10_10/gauss/LID/k_5/layer_0/log.txt', '../data/extracted_characteristics/run_1/cif10/wrn_28_10_10/gauss/LID/k_5/layer_1/log.txt', '../data/extracted_characteristics/run_1/cif10/wrn_28_10_10/gauss/LID/k_5/layer_2/log.txt', '../data/extracted_characteristics/run_1/cif10/wrn_28_10_10/gauss/LID/k_5/layer_3/log.txt', '../data/extracted_characteristics/run_1/cif10/wrn_28_10_10/gauss/LID/k_5/layer_4/log.txt', '../data/extracted_characteristics/run_1/cif10/wrn_28_10_10/gauss/LID/k_5/layer_5/log.txt', '../data/extracted_characteristics/run_1/cif10/wrn_28_10_10/gauss/LID/k_5/layer_6/log.txt', '../data/extracted_characteristics/run_1/cif10/wrn_28_10_10/gauss/LID/k_5/layer_7/log.txt', '../data/extracted_characteristics/run_1/cif10/wrn_28_10_10/gauss/LID/k_5/layer_8/log.txt', '../data/extracted_characteristics/run_1/cif10/wrn_28_10_10/gauss/LID/k_5/layer_9/log.txt', '../data/extracted_characteristics/run_1/cif10/wrn_28_10_10/gauss/LID/k_5/layer_10/log.txt', '../data/extracted_characteristics/run_1/cif10/wrn_28_10_10/gauss/LID/k_5/layer_11/log.txt', '../data/extracted_characteristics/run_1/cif10/wrn_28_10_10/gauss/LID/k_5/layer_12/log.txt']\n",
      "lr_paths:  ['../data/extracted_characteristics/run_1/cif10/wrn_28_10_10/fgsm/LID/k_5/layer_0/log.txt', '../data/extracted_characteristics/run_1/cif10/wrn_28_10_10/fgsm/LID/k_5/layer_1/log.txt', '../data/extracted_characteristics/run_1/cif10/wrn_28_10_10/fgsm/LID/k_5/layer_2/log.txt', '../data/extracted_characteristics/run_1/cif10/wrn_28_10_10/fgsm/LID/k_5/layer_3/log.txt', '../data/extracted_characteristics/run_1/cif10/wrn_28_10_10/fgsm/LID/k_5/layer_4/log.txt', '../data/extracted_characteristics/run_1/cif10/wrn_28_10_10/fgsm/LID/k_5/layer_5/log.txt', '../data/extracted_characteristics/run_1/cif10/wrn_28_10_10/fgsm/LID/k_5/layer_6/log.txt', '../data/extracted_characteristics/run_1/cif10/wrn_28_10_10/fgsm/LID/k_5/layer_7/log.txt', '../data/extracted_characteristics/run_1/cif10/wrn_28_10_10/fgsm/LID/k_5/layer_8/log.txt', '../data/extracted_characteristics/run_1/cif10/wrn_28_10_10/fgsm/LID/k_5/layer_9/log.txt', '../data/extracted_characteristics/run_1/cif10/wrn_28_10_10/fgsm/LID/k_5/layer_10/log.txt', '../data/extracted_characteristics/run_1/cif10/wrn_28_10_10/fgsm/LID/k_5/layer_11/log.txt', '../data/extracted_characteristics/run_1/cif10/wrn_28_10_10/fgsm/LID/k_5/layer_12/log.txt']\n",
      "lr_paths:  ['../data/extracted_characteristics/run_1/cif10/wrn_28_10_10/bim/LID/k_5/layer_0/log.txt', '../data/extracted_characteristics/run_1/cif10/wrn_28_10_10/bim/LID/k_5/layer_1/log.txt', '../data/extracted_characteristics/run_1/cif10/wrn_28_10_10/bim/LID/k_5/layer_2/log.txt', '../data/extracted_characteristics/run_1/cif10/wrn_28_10_10/bim/LID/k_5/layer_3/log.txt', '../data/extracted_characteristics/run_1/cif10/wrn_28_10_10/bim/LID/k_5/layer_4/log.txt', '../data/extracted_characteristics/run_1/cif10/wrn_28_10_10/bim/LID/k_5/layer_5/log.txt', '../data/extracted_characteristics/run_1/cif10/wrn_28_10_10/bim/LID/k_5/layer_6/log.txt', '../data/extracted_characteristics/run_1/cif10/wrn_28_10_10/bim/LID/k_5/layer_7/log.txt', '../data/extracted_characteristics/run_1/cif10/wrn_28_10_10/bim/LID/k_5/layer_8/log.txt', '../data/extracted_characteristics/run_1/cif10/wrn_28_10_10/bim/LID/k_5/layer_9/log.txt', '../data/extracted_characteristics/run_1/cif10/wrn_28_10_10/bim/LID/k_5/layer_10/log.txt', '../data/extracted_characteristics/run_1/cif10/wrn_28_10_10/bim/LID/k_5/layer_11/log.txt', '../data/extracted_characteristics/run_1/cif10/wrn_28_10_10/bim/LID/k_5/layer_12/log.txt']\n",
      "lr_paths:  ['../data/extracted_characteristics/run_1/cif10/wrn_28_10_10/pgd/LID/k_5/layer_0/log.txt', '../data/extracted_characteristics/run_1/cif10/wrn_28_10_10/pgd/LID/k_5/layer_1/log.txt', '../data/extracted_characteristics/run_1/cif10/wrn_28_10_10/pgd/LID/k_5/layer_2/log.txt', '../data/extracted_characteristics/run_1/cif10/wrn_28_10_10/pgd/LID/k_5/layer_3/log.txt', '../data/extracted_characteristics/run_1/cif10/wrn_28_10_10/pgd/LID/k_5/layer_4/log.txt', '../data/extracted_characteristics/run_1/cif10/wrn_28_10_10/pgd/LID/k_5/layer_5/log.txt', '../data/extracted_characteristics/run_1/cif10/wrn_28_10_10/pgd/LID/k_5/layer_6/log.txt', '../data/extracted_characteristics/run_1/cif10/wrn_28_10_10/pgd/LID/k_5/layer_7/log.txt', '../data/extracted_characteristics/run_1/cif10/wrn_28_10_10/pgd/LID/k_5/layer_8/log.txt', '../data/extracted_characteristics/run_1/cif10/wrn_28_10_10/pgd/LID/k_5/layer_9/log.txt', '../data/extracted_characteristics/run_1/cif10/wrn_28_10_10/pgd/LID/k_5/layer_10/log.txt', '../data/extracted_characteristics/run_1/cif10/wrn_28_10_10/pgd/LID/k_5/layer_11/log.txt', '../data/extracted_characteristics/run_1/cif10/wrn_28_10_10/pgd/LID/k_5/layer_12/log.txt']\n",
      "lr_paths:  ['../data/extracted_characteristics/run_1/cif10/wrn_28_10_10/std/8_255/LID/k_5/layer_0/log.txt', '../data/extracted_characteristics/run_1/cif10/wrn_28_10_10/std/8_255/LID/k_5/layer_1/log.txt', '../data/extracted_characteristics/run_1/cif10/wrn_28_10_10/std/8_255/LID/k_5/layer_2/log.txt', '../data/extracted_characteristics/run_1/cif10/wrn_28_10_10/std/8_255/LID/k_5/layer_3/log.txt', '../data/extracted_characteristics/run_1/cif10/wrn_28_10_10/std/8_255/LID/k_5/layer_4/log.txt', '../data/extracted_characteristics/run_1/cif10/wrn_28_10_10/std/8_255/LID/k_5/layer_5/log.txt', '../data/extracted_characteristics/run_1/cif10/wrn_28_10_10/std/8_255/LID/k_5/layer_6/log.txt', '../data/extracted_characteristics/run_1/cif10/wrn_28_10_10/std/8_255/LID/k_5/layer_7/log.txt', '../data/extracted_characteristics/run_1/cif10/wrn_28_10_10/std/8_255/LID/k_5/layer_8/log.txt', '../data/extracted_characteristics/run_1/cif10/wrn_28_10_10/std/8_255/LID/k_5/layer_9/log.txt', '../data/extracted_characteristics/run_1/cif10/wrn_28_10_10/std/8_255/LID/k_5/layer_10/log.txt', '../data/extracted_characteristics/run_1/cif10/wrn_28_10_10/std/8_255/LID/k_5/layer_11/log.txt', '../data/extracted_characteristics/run_1/cif10/wrn_28_10_10/std/8_255/LID/k_5/layer_12/log.txt']\n",
      "lr_paths:  ['../data/extracted_characteristics/run_1/cif10/wrn_28_10_10/df/LID/k_5/layer_0/log.txt', '../data/extracted_characteristics/run_1/cif10/wrn_28_10_10/df/LID/k_5/layer_1/log.txt', '../data/extracted_characteristics/run_1/cif10/wrn_28_10_10/df/LID/k_5/layer_2/log.txt', '../data/extracted_characteristics/run_1/cif10/wrn_28_10_10/df/LID/k_5/layer_3/log.txt', '../data/extracted_characteristics/run_1/cif10/wrn_28_10_10/df/LID/k_5/layer_4/log.txt', '../data/extracted_characteristics/run_1/cif10/wrn_28_10_10/df/LID/k_5/layer_5/log.txt', '../data/extracted_characteristics/run_1/cif10/wrn_28_10_10/df/LID/k_5/layer_6/log.txt', '../data/extracted_characteristics/run_1/cif10/wrn_28_10_10/df/LID/k_5/layer_7/log.txt', '../data/extracted_characteristics/run_1/cif10/wrn_28_10_10/df/LID/k_5/layer_8/log.txt', '../data/extracted_characteristics/run_1/cif10/wrn_28_10_10/df/LID/k_5/layer_9/log.txt', '../data/extracted_characteristics/run_1/cif10/wrn_28_10_10/df/LID/k_5/layer_10/log.txt', '../data/extracted_characteristics/run_1/cif10/wrn_28_10_10/df/LID/k_5/layer_11/log.txt', '../data/extracted_characteristics/run_1/cif10/wrn_28_10_10/df/LID/k_5/layer_12/log.txt']\n",
      "lr_paths:  ['../data/extracted_characteristics/run_1/cif10/wrn_28_10_10/cw/LID/k_5/layer_0/log.txt', '../data/extracted_characteristics/run_1/cif10/wrn_28_10_10/cw/LID/k_5/layer_1/log.txt', '../data/extracted_characteristics/run_1/cif10/wrn_28_10_10/cw/LID/k_5/layer_2/log.txt', '../data/extracted_characteristics/run_1/cif10/wrn_28_10_10/cw/LID/k_5/layer_3/log.txt', '../data/extracted_characteristics/run_1/cif10/wrn_28_10_10/cw/LID/k_5/layer_4/log.txt', '../data/extracted_characteristics/run_1/cif10/wrn_28_10_10/cw/LID/k_5/layer_5/log.txt', '../data/extracted_characteristics/run_1/cif10/wrn_28_10_10/cw/LID/k_5/layer_6/log.txt', '../data/extracted_characteristics/run_1/cif10/wrn_28_10_10/cw/LID/k_5/layer_7/log.txt', '../data/extracted_characteristics/run_1/cif10/wrn_28_10_10/cw/LID/k_5/layer_8/log.txt', '../data/extracted_characteristics/run_1/cif10/wrn_28_10_10/cw/LID/k_5/layer_9/log.txt', '../data/extracted_characteristics/run_1/cif10/wrn_28_10_10/cw/LID/k_5/layer_10/log.txt', '../data/extracted_characteristics/run_1/cif10/wrn_28_10_10/cw/LID/k_5/layer_11/log.txt', '../data/extracted_characteristics/run_1/cif10/wrn_28_10_10/cw/LID/k_5/layer_12/log.txt']\n",
      "['../data/extracted_characteristics/run_1/cif10/wrn_28_10_10/gauss/LID/k_5/layer_0/log.txt', '../data/extracted_characteristics/run_1/cif10/wrn_28_10_10/gauss/LID/k_5/layer_1/log.txt', '../data/extracted_characteristics/run_1/cif10/wrn_28_10_10/gauss/LID/k_5/layer_2/log.txt', '../data/extracted_characteristics/run_1/cif10/wrn_28_10_10/gauss/LID/k_5/layer_3/log.txt', '../data/extracted_characteristics/run_1/cif10/wrn_28_10_10/gauss/LID/k_5/layer_4/log.txt', '../data/extracted_characteristics/run_1/cif10/wrn_28_10_10/gauss/LID/k_5/layer_5/log.txt', '../data/extracted_characteristics/run_1/cif10/wrn_28_10_10/gauss/LID/k_5/layer_6/log.txt', '../data/extracted_characteristics/run_1/cif10/wrn_28_10_10/gauss/LID/k_5/layer_7/log.txt', '../data/extracted_characteristics/run_1/cif10/wrn_28_10_10/gauss/LID/k_5/layer_8/log.txt', '../data/extracted_characteristics/run_1/cif10/wrn_28_10_10/gauss/LID/k_5/layer_9/log.txt', '../data/extracted_characteristics/run_1/cif10/wrn_28_10_10/gauss/LID/k_5/layer_10/log.txt', '../data/extracted_characteristics/run_1/cif10/wrn_28_10_10/gauss/LID/k_5/layer_11/log.txt', '../data/extracted_characteristics/run_1/cif10/wrn_28_10_10/gauss/LID/k_5/layer_12/log.txt', '../data/extracted_characteristics/run_1/cif10/wrn_28_10_10/fgsm/LID/k_5/layer_0/log.txt', '../data/extracted_characteristics/run_1/cif10/wrn_28_10_10/fgsm/LID/k_5/layer_1/log.txt', '../data/extracted_characteristics/run_1/cif10/wrn_28_10_10/fgsm/LID/k_5/layer_2/log.txt', '../data/extracted_characteristics/run_1/cif10/wrn_28_10_10/fgsm/LID/k_5/layer_3/log.txt', '../data/extracted_characteristics/run_1/cif10/wrn_28_10_10/fgsm/LID/k_5/layer_4/log.txt', '../data/extracted_characteristics/run_1/cif10/wrn_28_10_10/fgsm/LID/k_5/layer_5/log.txt', '../data/extracted_characteristics/run_1/cif10/wrn_28_10_10/fgsm/LID/k_5/layer_6/log.txt', '../data/extracted_characteristics/run_1/cif10/wrn_28_10_10/fgsm/LID/k_5/layer_7/log.txt', '../data/extracted_characteristics/run_1/cif10/wrn_28_10_10/fgsm/LID/k_5/layer_8/log.txt', '../data/extracted_characteristics/run_1/cif10/wrn_28_10_10/fgsm/LID/k_5/layer_9/log.txt', '../data/extracted_characteristics/run_1/cif10/wrn_28_10_10/fgsm/LID/k_5/layer_10/log.txt', '../data/extracted_characteristics/run_1/cif10/wrn_28_10_10/fgsm/LID/k_5/layer_11/log.txt', '../data/extracted_characteristics/run_1/cif10/wrn_28_10_10/fgsm/LID/k_5/layer_12/log.txt', '../data/extracted_characteristics/run_1/cif10/wrn_28_10_10/bim/LID/k_5/layer_0/log.txt', '../data/extracted_characteristics/run_1/cif10/wrn_28_10_10/bim/LID/k_5/layer_1/log.txt', '../data/extracted_characteristics/run_1/cif10/wrn_28_10_10/bim/LID/k_5/layer_2/log.txt', '../data/extracted_characteristics/run_1/cif10/wrn_28_10_10/bim/LID/k_5/layer_3/log.txt', '../data/extracted_characteristics/run_1/cif10/wrn_28_10_10/bim/LID/k_5/layer_4/log.txt', '../data/extracted_characteristics/run_1/cif10/wrn_28_10_10/bim/LID/k_5/layer_5/log.txt', '../data/extracted_characteristics/run_1/cif10/wrn_28_10_10/bim/LID/k_5/layer_6/log.txt', '../data/extracted_characteristics/run_1/cif10/wrn_28_10_10/bim/LID/k_5/layer_7/log.txt', '../data/extracted_characteristics/run_1/cif10/wrn_28_10_10/bim/LID/k_5/layer_8/log.txt', '../data/extracted_characteristics/run_1/cif10/wrn_28_10_10/bim/LID/k_5/layer_9/log.txt', '../data/extracted_characteristics/run_1/cif10/wrn_28_10_10/bim/LID/k_5/layer_10/log.txt', '../data/extracted_characteristics/run_1/cif10/wrn_28_10_10/bim/LID/k_5/layer_11/log.txt', '../data/extracted_characteristics/run_1/cif10/wrn_28_10_10/bim/LID/k_5/layer_12/log.txt', '../data/extracted_characteristics/run_1/cif10/wrn_28_10_10/pgd/LID/k_5/layer_0/log.txt', '../data/extracted_characteristics/run_1/cif10/wrn_28_10_10/pgd/LID/k_5/layer_1/log.txt', '../data/extracted_characteristics/run_1/cif10/wrn_28_10_10/pgd/LID/k_5/layer_2/log.txt', '../data/extracted_characteristics/run_1/cif10/wrn_28_10_10/pgd/LID/k_5/layer_3/log.txt', '../data/extracted_characteristics/run_1/cif10/wrn_28_10_10/pgd/LID/k_5/layer_4/log.txt', '../data/extracted_characteristics/run_1/cif10/wrn_28_10_10/pgd/LID/k_5/layer_5/log.txt', '../data/extracted_characteristics/run_1/cif10/wrn_28_10_10/pgd/LID/k_5/layer_6/log.txt', '../data/extracted_characteristics/run_1/cif10/wrn_28_10_10/pgd/LID/k_5/layer_7/log.txt', '../data/extracted_characteristics/run_1/cif10/wrn_28_10_10/pgd/LID/k_5/layer_8/log.txt', '../data/extracted_characteristics/run_1/cif10/wrn_28_10_10/pgd/LID/k_5/layer_9/log.txt', '../data/extracted_characteristics/run_1/cif10/wrn_28_10_10/pgd/LID/k_5/layer_10/log.txt', '../data/extracted_characteristics/run_1/cif10/wrn_28_10_10/pgd/LID/k_5/layer_11/log.txt', '../data/extracted_characteristics/run_1/cif10/wrn_28_10_10/pgd/LID/k_5/layer_12/log.txt', '../data/extracted_characteristics/run_1/cif10/wrn_28_10_10/std/8_255/LID/k_5/layer_0/log.txt', '../data/extracted_characteristics/run_1/cif10/wrn_28_10_10/std/8_255/LID/k_5/layer_1/log.txt', '../data/extracted_characteristics/run_1/cif10/wrn_28_10_10/std/8_255/LID/k_5/layer_2/log.txt', '../data/extracted_characteristics/run_1/cif10/wrn_28_10_10/std/8_255/LID/k_5/layer_3/log.txt', '../data/extracted_characteristics/run_1/cif10/wrn_28_10_10/std/8_255/LID/k_5/layer_4/log.txt', '../data/extracted_characteristics/run_1/cif10/wrn_28_10_10/std/8_255/LID/k_5/layer_5/log.txt', '../data/extracted_characteristics/run_1/cif10/wrn_28_10_10/std/8_255/LID/k_5/layer_6/log.txt', '../data/extracted_characteristics/run_1/cif10/wrn_28_10_10/std/8_255/LID/k_5/layer_7/log.txt', '../data/extracted_characteristics/run_1/cif10/wrn_28_10_10/std/8_255/LID/k_5/layer_8/log.txt', '../data/extracted_characteristics/run_1/cif10/wrn_28_10_10/std/8_255/LID/k_5/layer_9/log.txt', '../data/extracted_characteristics/run_1/cif10/wrn_28_10_10/std/8_255/LID/k_5/layer_10/log.txt', '../data/extracted_characteristics/run_1/cif10/wrn_28_10_10/std/8_255/LID/k_5/layer_11/log.txt', '../data/extracted_characteristics/run_1/cif10/wrn_28_10_10/std/8_255/LID/k_5/layer_12/log.txt', '../data/extracted_characteristics/run_1/cif10/wrn_28_10_10/df/LID/k_5/layer_0/log.txt', '../data/extracted_characteristics/run_1/cif10/wrn_28_10_10/df/LID/k_5/layer_1/log.txt', '../data/extracted_characteristics/run_1/cif10/wrn_28_10_10/df/LID/k_5/layer_2/log.txt', '../data/extracted_characteristics/run_1/cif10/wrn_28_10_10/df/LID/k_5/layer_3/log.txt', '../data/extracted_characteristics/run_1/cif10/wrn_28_10_10/df/LID/k_5/layer_4/log.txt', '../data/extracted_characteristics/run_1/cif10/wrn_28_10_10/df/LID/k_5/layer_5/log.txt', '../data/extracted_characteristics/run_1/cif10/wrn_28_10_10/df/LID/k_5/layer_6/log.txt', '../data/extracted_characteristics/run_1/cif10/wrn_28_10_10/df/LID/k_5/layer_7/log.txt', '../data/extracted_characteristics/run_1/cif10/wrn_28_10_10/df/LID/k_5/layer_8/log.txt', '../data/extracted_characteristics/run_1/cif10/wrn_28_10_10/df/LID/k_5/layer_9/log.txt', '../data/extracted_characteristics/run_1/cif10/wrn_28_10_10/df/LID/k_5/layer_10/log.txt', '../data/extracted_characteristics/run_1/cif10/wrn_28_10_10/df/LID/k_5/layer_11/log.txt', '../data/extracted_characteristics/run_1/cif10/wrn_28_10_10/df/LID/k_5/layer_12/log.txt', '../data/extracted_characteristics/run_1/cif10/wrn_28_10_10/cw/LID/k_5/layer_0/log.txt', '../data/extracted_characteristics/run_1/cif10/wrn_28_10_10/cw/LID/k_5/layer_1/log.txt', '../data/extracted_characteristics/run_1/cif10/wrn_28_10_10/cw/LID/k_5/layer_2/log.txt', '../data/extracted_characteristics/run_1/cif10/wrn_28_10_10/cw/LID/k_5/layer_3/log.txt', '../data/extracted_characteristics/run_1/cif10/wrn_28_10_10/cw/LID/k_5/layer_4/log.txt', '../data/extracted_characteristics/run_1/cif10/wrn_28_10_10/cw/LID/k_5/layer_5/log.txt', '../data/extracted_characteristics/run_1/cif10/wrn_28_10_10/cw/LID/k_5/layer_6/log.txt', '../data/extracted_characteristics/run_1/cif10/wrn_28_10_10/cw/LID/k_5/layer_7/log.txt', '../data/extracted_characteristics/run_1/cif10/wrn_28_10_10/cw/LID/k_5/layer_8/log.txt', '../data/extracted_characteristics/run_1/cif10/wrn_28_10_10/cw/LID/k_5/layer_9/log.txt', '../data/extracted_characteristics/run_1/cif10/wrn_28_10_10/cw/LID/k_5/layer_10/log.txt', '../data/extracted_characteristics/run_1/cif10/wrn_28_10_10/cw/LID/k_5/layer_11/log.txt', '../data/extracted_characteristics/run_1/cif10/wrn_28_10_10/cw/LID/k_5/layer_12/log.txt']\n"
     ]
    }
   ],
   "source": [
    "OUT_PATH = \"analysis_nonlinear_lid/lid_logs\"\n",
    "# OUT_PATH = \"analysis/variance/run_gauss_\"\n",
    "APP = '_LAYER'\n",
    "# APP = '_HPF'\n",
    "# APP = 'layers'\n",
    "# APP = ''\n",
    "\n",
    "LAYERS=True\n",
    "# LAYERS=False\n",
    "CSV_FILE_PATH = []\n",
    "# NR = [1,2,3]\n",
    "# NR = [8]\n",
    "# NR = [3]\n",
    "NR = [1]\n",
    "    \n",
    "architecture='wrn_28_10_10'\n",
    "\n",
    "root='../data'\n",
    "net=['cif10']; \n",
    "dest='../data/extracted_characteristics'; nr=NR; csv_filename='cif10{}.csv'.format(APP); layers=True; ATTACKS='attacks'; \n",
    "DETECTION='extracted_characteristics';  k=5\n",
    "print( ' Extract information! ' )\n",
    "\n",
    "if not architecture == '':\n",
    "    architecture = '/' + architecture\n",
    "\n",
    "\n",
    "# output_path = ''\n",
    "final = []\n",
    "paths = [] \n",
    "for net_path in net:\n",
    "    if ATTACKS == 'attacks' and DETECTION == 'detection':\n",
    "        in_dir_attacks = os.path.join( root, ATTACKS,   'run_' + str(nr), net_path )\n",
    "        in_dir_detects = os.path.join( root, DETECTION, 'run_' + str(nr), net_path )\n",
    "    elif  ATTACKS == 'attacks' and DETECTION == 'extracted_characteristics':\n",
    "        in_dir_attacks = os.path.join( root, ATTACKS,   'run_' + str(nr), net_path )\n",
    "        in_dir_detects = os.path.join( root, DETECTION, 'run_' + str(nr), net_path )\n",
    "\n",
    "    # import pdb; pdb.set_trace()\n",
    "\n",
    "    clean_acc = get_clean_accuracy( glob.glob( in_dir_attacks + architecture + \"/**/log.txt\", recursive=True ) )\n",
    "    print(\"clean accuracy: \", clean_acc)\n",
    "\n",
    "    if layers:\n",
    "        detectors = DETECTOR_LIST_LAYERS\n",
    "    else:\n",
    "        detectors = DETECTOR_LIST\n",
    "\n",
    "    # paths = []  \n",
    "    for det in detectors:\n",
    "        for classifier in CLF:\n",
    "            for att in  ATTACKS_LIST:\n",
    "                lr_paths = []\n",
    "                if DETECTION == 'extracted_characteristics':\n",
    "                    if layers:\n",
    "                        if att == 'std':\n",
    "                            search_path = in_dir_detects + architecture + \"/**/\" + att + \"/8_255/**/\" + det + \"/k_{}/layer_*/log.txt\".format(k)\n",
    "                        else:\n",
    "                            search_path = in_dir_detects + architecture + \"/**/\" + att + \"/\" + det + \"/k_{}/layer_*/log.txt\".format(k)\n",
    "\n",
    "                        lr_paths = sort_paths_by_layer( glob.glob( search_path, recursive=True) ) \n",
    "                    else:\n",
    "                        if att == 'std':\n",
    "                            search_path = in_dir_detects + architecture + \"/**/\" + att + \"/8_255/**/\" + det + \"/\" + classifier + \"/log.txt\"\n",
    "                        else:\n",
    "                            search_path = in_dir_detects + architecture + \"/**/\" + att + \"/\" + det + \"/\" + classifier + \"/log.txt\"\n",
    "\n",
    "                        lr_paths = glob.glob( search_path, recursive=True)\n",
    "\n",
    "                elif DETECTION == 'attack_transfer':\n",
    "                        if att == 'std':\n",
    "                            search_path = in_dir_detects + architecture + \"/**/\" + att + \"/**/\" + det + \"/\" + classifier + \"/**\" + \"/log.txt\"\n",
    "                        else:\n",
    "                            search_path = in_dir_detects + architecture + \"/**/\" + att + \"/\" + det + \"/\" + classifier + \"/**\" + \"/log.txt\"\n",
    "\n",
    "                        lr_paths = glob.glob( search_path, recursive=True)\n",
    "\n",
    "                elif DETECTION == 'data_transfer':\n",
    "                        if att == 'std':\n",
    "                            search_path = in_dir_detects + architecture + \"/**/\" + att + \"/**/\" + det + \"/\" + classifier + \"/**\" + \"/log.txt\"\n",
    "                        else:\n",
    "                            search_path = in_dir_detects + architecture + \"/**/\" + att + \"/\" + det + \"/\" + classifier + \"/**\" + \"/log.txt\"\n",
    "\n",
    "                        lr_paths = glob.glob( search_path, recursive=True)\n",
    "                else:\n",
    "                    print(\"Not known!\")\n",
    "\n",
    "                print(\"lr_paths: \", lr_paths)\n",
    "\n",
    "                paths = paths + lr_paths \n",
    "print(paths)"
   ]
  },
  {
   "cell_type": "code",
   "execution_count": 8,
   "id": "9bb42df5-e403-4b41-8160-7922c0ff34a8",
   "metadata": {},
   "outputs": [],
   "source": [
    "path = paths[0]"
   ]
  },
  {
   "cell_type": "code",
   "execution_count": 9,
   "id": "48cfcc30-e44c-4fa7-bfae-d45d903dc427",
   "metadata": {},
   "outputs": [
    {
     "data": {
      "text/plain": [
       "'../data/extracted_characteristics/run_1/cif10/wrn_28_10_10/gauss/LID/k_5/layer_0/log.txt'"
      ]
     },
     "execution_count": 9,
     "metadata": {},
     "output_type": "execute_result"
    }
   ],
   "source": [
    "path"
   ]
  },
  {
   "cell_type": "code",
   "execution_count": 10,
   "id": "0da19306-d7a5-4893-ab84-95e3cae0b033",
   "metadata": {},
   "outputs": [
    {
     "data": {
      "text/plain": [
       "['..',\n",
       " 'data',\n",
       " 'extracted_characteristics',\n",
       " 'run_1',\n",
       " 'cif10',\n",
       " 'wrn_28_10_10',\n",
       " 'gauss',\n",
       " 'LID',\n",
       " 'k_5',\n",
       " 'layer_0',\n",
       " 'log.txt']"
      ]
     },
     "execution_count": 10,
     "metadata": {},
     "output_type": "execute_result"
    }
   ],
   "source": [
    "splitted = path.split('/')\n",
    "splitted"
   ]
  },
  {
   "cell_type": "code",
   "execution_count": 11,
   "id": "ddd7b282-c2e5-4314-8b67-720b6c0e70da",
   "metadata": {},
   "outputs": [
    {
     "data": {
      "text/plain": [
       "{'path': '../data/extracted_characteristics/run_1/cif10/wrn_28_10_10/gauss/LID/k_5/layer_0',\n",
       " 'layer': '0',\n",
       " 'k': '5',\n",
       " 'attack': 'gauss',\n",
       " 'architecture': 'wrn_28_10_10',\n",
       " 'dataset': 'cif10',\n",
       " 'run': '1'}"
      ]
     },
     "execution_count": 11,
     "metadata": {},
     "output_type": "execute_result"
    }
   ],
   "source": [
    "meta_info = {}\n",
    "meta_info['path'] =     '/'.join(path.split('/')[:-1])\n",
    "meta_info['layer'] =    splitted[-2].split('_')[-1]\n",
    "meta_info['k'] =        splitted[-3].split('_')[-1]\n",
    "meta_info['attack'] =   splitted[-5]\n",
    "meta_info['architecture'] = splitted[-6]\n",
    "meta_info['dataset'] =  splitted[-7]\n",
    "meta_info['run'] =      splitted[-8].split('_')[-1]\n",
    "\n",
    "meta_info"
   ]
  },
  {
   "cell_type": "code",
   "execution_count": 12,
   "id": "2093df82-6664-457a-a798-526b7ba585bb",
   "metadata": {},
   "outputs": [
    {
     "data": {
      "text/plain": [
       "'../data/extracted_characteristics/run_1/cif10/wrn_28_10_10/gauss/LID/k_5/layer_0'"
      ]
     },
     "execution_count": 12,
     "metadata": {},
     "output_type": "execute_result"
    }
   ],
   "source": [
    "meta_info['path']"
   ]
  },
  {
   "cell_type": "code",
   "execution_count": 13,
   "id": "c57b26c1-9854-4b49-b677-8fdcee42b4ab",
   "metadata": {},
   "outputs": [],
   "source": [
    "charact     = torch.load(meta_info['path'] + os.sep + 'characteristics') \n",
    "charact_adv = torch.load(meta_info['path'] + os.sep + 'characteristics_adv')"
   ]
  },
  {
   "cell_type": "code",
   "execution_count": 14,
   "id": "14361650-1387-40b7-a442-f90441372979",
   "metadata": {},
   "outputs": [
    {
     "data": {
      "text/plain": [
       "array([60.916557], dtype=float32)"
      ]
     },
     "execution_count": 14,
     "metadata": {},
     "output_type": "execute_result"
    }
   ],
   "source": [
    "charact[0]"
   ]
  },
  {
   "cell_type": "code",
   "execution_count": 15,
   "id": "c6853ced-a340-4505-a503-16321af88e45",
   "metadata": {},
   "outputs": [
    {
     "data": {
      "text/plain": [
       "array([45.696968], dtype=float32)"
      ]
     },
     "execution_count": 15,
     "metadata": {},
     "output_type": "execute_result"
    }
   ],
   "source": [
    "charact_adv[0]"
   ]
  },
  {
   "cell_type": "code",
   "execution_count": 16,
   "id": "a5377b54-5ed5-41e5-85f9-90c0877fdc9d",
   "metadata": {},
   "outputs": [
    {
     "name": "stdout",
     "output_type": "stream",
     "text": [
      "[60.916557]\n"
     ]
    }
   ],
   "source": [
    "meta_infos = {}\n",
    "\n",
    "for iter in range(1):\n",
    "    meta_info = {}\n",
    "    meta_info['path'] =         '/'.join(path.split('/')[:-1])\n",
    "    meta_info['layer'] =        splitted[-2].split('_')[-1]\n",
    "    meta_info['k'] =            splitted[-3].split('_')[-1]\n",
    "    meta_info['attack'] =       splitted[-5]\n",
    "    meta_info['architecture'] = splitted[-6]\n",
    "    meta_info['dataset'] =      splitted[-7]\n",
    "    meta_info['run'] =          splitted[-8].split('_')[-1]\n",
    "    \n",
    "    print( charact[iter])\n",
    "    meta_info['score'] = charact[iter][0]\n",
    "    meta_info['score_adv'] = charact_adv[iter][0]\n",
    "    meta_infos[iter] = meta_info\n",
    "    "
   ]
  },
  {
   "cell_type": "code",
   "execution_count": 17,
   "id": "935b9d62-9da8-4a05-bb0e-317f2977deaa",
   "metadata": {},
   "outputs": [
    {
     "data": {
      "text/plain": [
       "{0: {'path': '../data/extracted_characteristics/run_1/cif10/wrn_28_10_10/gauss/LID/k_5/layer_0',\n",
       "  'layer': '0',\n",
       "  'k': '5',\n",
       "  'attack': 'gauss',\n",
       "  'architecture': 'wrn_28_10_10',\n",
       "  'dataset': 'cif10',\n",
       "  'run': '1',\n",
       "  'score': 60.916557,\n",
       "  'score_adv': 45.696968}}"
      ]
     },
     "execution_count": 17,
     "metadata": {},
     "output_type": "execute_result"
    }
   ],
   "source": [
    "meta_infos"
   ]
  },
  {
   "cell_type": "code",
   "execution_count": 18,
   "id": "8fc4fbbf-d727-4fb4-8e9e-7ef1992b3fd4",
   "metadata": {},
   "outputs": [
    {
     "data": {
      "text/html": [
       "<div>\n",
       "<style scoped>\n",
       "    .dataframe tbody tr th:only-of-type {\n",
       "        vertical-align: middle;\n",
       "    }\n",
       "\n",
       "    .dataframe tbody tr th {\n",
       "        vertical-align: top;\n",
       "    }\n",
       "\n",
       "    .dataframe thead th {\n",
       "        text-align: right;\n",
       "    }\n",
       "</style>\n",
       "<table border=\"1\" class=\"dataframe\">\n",
       "  <thead>\n",
       "    <tr style=\"text-align: right;\">\n",
       "      <th></th>\n",
       "      <th>path</th>\n",
       "      <th>layer</th>\n",
       "      <th>k</th>\n",
       "      <th>attack</th>\n",
       "      <th>architecture</th>\n",
       "      <th>dataset</th>\n",
       "      <th>run</th>\n",
       "      <th>score</th>\n",
       "      <th>score_adv</th>\n",
       "    </tr>\n",
       "  </thead>\n",
       "  <tbody>\n",
       "    <tr>\n",
       "      <th>0</th>\n",
       "      <td>../data/extracted_characteristics/run_1/cif10/...</td>\n",
       "      <td>0</td>\n",
       "      <td>5</td>\n",
       "      <td>gauss</td>\n",
       "      <td>wrn_28_10_10</td>\n",
       "      <td>cif10</td>\n",
       "      <td>1</td>\n",
       "      <td>60.916557</td>\n",
       "      <td>45.696968</td>\n",
       "    </tr>\n",
       "  </tbody>\n",
       "</table>\n",
       "</div>"
      ],
      "text/plain": [
       "                                                path layer  k attack  \\\n",
       "0  ../data/extracted_characteristics/run_1/cif10/...     0  5  gauss   \n",
       "\n",
       "   architecture dataset run      score  score_adv  \n",
       "0  wrn_28_10_10   cif10   1  60.916557  45.696968  "
      ]
     },
     "execution_count": 18,
     "metadata": {},
     "output_type": "execute_result"
    }
   ],
   "source": [
    "pd.DataFrame.from_dict(meta_infos, orient='index')"
   ]
  },
  {
   "cell_type": "code",
   "execution_count": 19,
   "id": "9e6395d1-939a-4fdb-a20f-48497ebd0a0e",
   "metadata": {},
   "outputs": [
    {
     "data": {
      "text/plain": [
       "'lid_logs/k_5.csv'"
      ]
     },
     "execution_count": 19,
     "metadata": {},
     "output_type": "execute_result"
    }
   ],
   "source": [
    "out_path = os.path.join('lid_logs', 'k_' + str(k) + '.csv')\n",
    "# out_path = os.path.join(OUT_PATH, 'k_' + str(k) + '.csv')\n",
    "out_path"
   ]
  },
  {
   "cell_type": "code",
   "execution_count": 20,
   "id": "7b0cf157-da80-45ae-b81d-88f3f2270eca",
   "metadata": {},
   "outputs": [
    {
     "name": "stdout",
     "output_type": "stream",
     "text": [
      "i> 0\n"
     ]
    }
   ],
   "source": [
    "for i in range(1):\n",
    "    print(\"i>\", i)"
   ]
  },
  {
   "cell_type": "code",
   "execution_count": null,
   "id": "6ab9efa6-1cea-40aa-8a13-955e484dd114",
   "metadata": {},
   "outputs": [],
   "source": []
  },
  {
   "cell_type": "code",
   "execution_count": null,
   "id": "f836f1bc-47be-464b-b9e1-954973cb7d8a",
   "metadata": {},
   "outputs": [],
   "source": []
  },
  {
   "cell_type": "code",
   "execution_count": null,
   "id": "90415930-a521-42ed-8137-dd2cc086501f",
   "metadata": {},
   "outputs": [],
   "source": []
  },
  {
   "cell_type": "code",
   "execution_count": null,
   "id": "29c323a6-5a56-4d08-97d8-056c533e8eb6",
   "metadata": {},
   "outputs": [],
   "source": []
  },
  {
   "cell_type": "code",
   "execution_count": null,
   "id": "df4f7a08-8c75-40f6-8842-de56d297c4e6",
   "metadata": {},
   "outputs": [],
   "source": []
  },
  {
   "cell_type": "code",
   "execution_count": null,
   "id": "196f8a77-60c9-4ed9-adaa-ecea82be2bc6",
   "metadata": {},
   "outputs": [],
   "source": []
  },
  {
   "cell_type": "code",
   "execution_count": null,
   "id": "a73cca24-0aae-4c65-a549-7098807fcfcb",
   "metadata": {},
   "outputs": [],
   "source": []
  },
  {
   "cell_type": "code",
   "execution_count": null,
   "id": "f4167c2a-c3ee-4fa2-98f4-e52cbdbd07a4",
   "metadata": {},
   "outputs": [],
   "source": []
  }
 ],
 "metadata": {
  "kernelspec": {
   "display_name": "Python [conda env:.conda-cuda--11-1-1--pytorch--1-9-0]",
   "language": "python",
   "name": "conda-env-.conda-cuda--11-1-1--pytorch--1-9-0-py"
  },
  "language_info": {
   "codemirror_mode": {
    "name": "ipython",
    "version": 3
   },
   "file_extension": ".py",
   "mimetype": "text/x-python",
   "name": "python",
   "nbconvert_exporter": "python",
   "pygments_lexer": "ipython3",
   "version": "3.9.12"
  }
 },
 "nbformat": 4,
 "nbformat_minor": 5
}
